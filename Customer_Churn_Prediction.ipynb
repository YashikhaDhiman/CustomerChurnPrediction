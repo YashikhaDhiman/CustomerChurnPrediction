{
  "nbformat": 4,
  "nbformat_minor": 0,
  "metadata": {
    "colab": {
      "name": "Customer_Churn_Prediction.ipynb",
      "provenance": [],
      "collapsed_sections": [],
      "mount_file_id": "1hhDcDIJL11a_KvoKPKOtIAvsTdz9v6AI",
      "authorship_tag": "ABX9TyODCE01pDEjRgjYx8c1sOc2",
      "include_colab_link": true
    },
    "kernelspec": {
      "name": "python3",
      "display_name": "Python 3"
    },
    "language_info": {
      "name": "python"
    }
  },
  "cells": [
    {
      "cell_type": "markdown",
      "metadata": {
        "id": "view-in-github",
        "colab_type": "text"
      },
      "source": [
        "<a href=\"https://colab.research.google.com/github/YashikhaDhiman/CustomerChurnPrediction/blob/main/Customer_Churn_Prediction.ipynb\" target=\"_parent\"><img src=\"https://colab.research.google.com/assets/colab-badge.svg\" alt=\"Open In Colab\"/></a>"
      ]
    },
    {
      "cell_type": "markdown",
      "source": [
        "# Customer Churn Prediction"
      ],
      "metadata": {
        "id": "5fWF-yGOCxaD"
      }
    },
    {
      "cell_type": "markdown",
      "source": [
        "Problem statement was to create a machine learning model, which can be used to predict the churn rate or customers for a bank."
      ],
      "metadata": {
        "id": "qqyyUIsBLVN2"
      }
    },
    {
      "cell_type": "markdown",
      "source": [
        "## creating the ML Model"
      ],
      "metadata": {
        "id": "-cXXjnTdSSbm"
      }
    },
    {
      "cell_type": "markdown",
      "source": [
        "Import the required python libraries for data preprocessing and data visualization."
      ],
      "metadata": {
        "id": "24RKVWnELtj-"
      }
    },
    {
      "cell_type": "code",
      "source": [
        "import pandas as pd\n",
        "from matplotlib import pyplot as plt\n",
        "import numpy as np\n",
        "%matplotlib inline"
      ],
      "metadata": {
        "id": "qQVVJDD9FlI_"
      },
      "execution_count": 1,
      "outputs": []
    },
    {
      "cell_type": "code",
      "source": [
        "# load the train data set.\n",
        "df = pd.read_csv(\"/content/drive/MyDrive/Customer_Churn_Prediction_Data/train_PDjVQMB.csv\") \n",
        "df.head()"
      ],
      "metadata": {
        "colab": {
          "base_uri": "https://localhost:8080/",
          "height": 426
        },
        "id": "1l3-0wLXFvCl",
        "outputId": "b8518238-df2a-4ff4-b1cd-e37827cecf9c"
      },
      "execution_count": 86,
      "outputs": [
        {
          "output_type": "execute_result",
          "data": {
            "text/plain": [
              "         ID  Age  Gender         Income     Balance  Vintage  \\\n",
              "0  84e2fcc9   36  Female       5L - 10L   563266.44        4   \n",
              "1  57fea15e   53  Female   Less than 5L   875572.11        2   \n",
              "2  8df34ef3   35  Female  More than 15L   701607.06        2   \n",
              "3  c5c0788b   43  Female  More than 15L  1393922.16        0   \n",
              "4  951d69c4   39  Female  More than 15L   893146.23        1   \n",
              "\n",
              "   Transaction_Status Product_Holdings  Credit_Card Credit_Category  Is_Churn  \n",
              "0                   0                1            0         Average         1  \n",
              "1                   1                1            1            Poor         0  \n",
              "2                   1                2            0            Poor         0  \n",
              "3                   1                2            1            Poor         1  \n",
              "4                   1                1            1            Good         1  "
            ],
            "text/html": [
              "\n",
              "  <div id=\"df-ef97b630-d061-42f2-aa9b-10faa0b0168f\">\n",
              "    <div class=\"colab-df-container\">\n",
              "      <div>\n",
              "<style scoped>\n",
              "    .dataframe tbody tr th:only-of-type {\n",
              "        vertical-align: middle;\n",
              "    }\n",
              "\n",
              "    .dataframe tbody tr th {\n",
              "        vertical-align: top;\n",
              "    }\n",
              "\n",
              "    .dataframe thead th {\n",
              "        text-align: right;\n",
              "    }\n",
              "</style>\n",
              "<table border=\"1\" class=\"dataframe\">\n",
              "  <thead>\n",
              "    <tr style=\"text-align: right;\">\n",
              "      <th></th>\n",
              "      <th>ID</th>\n",
              "      <th>Age</th>\n",
              "      <th>Gender</th>\n",
              "      <th>Income</th>\n",
              "      <th>Balance</th>\n",
              "      <th>Vintage</th>\n",
              "      <th>Transaction_Status</th>\n",
              "      <th>Product_Holdings</th>\n",
              "      <th>Credit_Card</th>\n",
              "      <th>Credit_Category</th>\n",
              "      <th>Is_Churn</th>\n",
              "    </tr>\n",
              "  </thead>\n",
              "  <tbody>\n",
              "    <tr>\n",
              "      <th>0</th>\n",
              "      <td>84e2fcc9</td>\n",
              "      <td>36</td>\n",
              "      <td>Female</td>\n",
              "      <td>5L - 10L</td>\n",
              "      <td>563266.44</td>\n",
              "      <td>4</td>\n",
              "      <td>0</td>\n",
              "      <td>1</td>\n",
              "      <td>0</td>\n",
              "      <td>Average</td>\n",
              "      <td>1</td>\n",
              "    </tr>\n",
              "    <tr>\n",
              "      <th>1</th>\n",
              "      <td>57fea15e</td>\n",
              "      <td>53</td>\n",
              "      <td>Female</td>\n",
              "      <td>Less than 5L</td>\n",
              "      <td>875572.11</td>\n",
              "      <td>2</td>\n",
              "      <td>1</td>\n",
              "      <td>1</td>\n",
              "      <td>1</td>\n",
              "      <td>Poor</td>\n",
              "      <td>0</td>\n",
              "    </tr>\n",
              "    <tr>\n",
              "      <th>2</th>\n",
              "      <td>8df34ef3</td>\n",
              "      <td>35</td>\n",
              "      <td>Female</td>\n",
              "      <td>More than 15L</td>\n",
              "      <td>701607.06</td>\n",
              "      <td>2</td>\n",
              "      <td>1</td>\n",
              "      <td>2</td>\n",
              "      <td>0</td>\n",
              "      <td>Poor</td>\n",
              "      <td>0</td>\n",
              "    </tr>\n",
              "    <tr>\n",
              "      <th>3</th>\n",
              "      <td>c5c0788b</td>\n",
              "      <td>43</td>\n",
              "      <td>Female</td>\n",
              "      <td>More than 15L</td>\n",
              "      <td>1393922.16</td>\n",
              "      <td>0</td>\n",
              "      <td>1</td>\n",
              "      <td>2</td>\n",
              "      <td>1</td>\n",
              "      <td>Poor</td>\n",
              "      <td>1</td>\n",
              "    </tr>\n",
              "    <tr>\n",
              "      <th>4</th>\n",
              "      <td>951d69c4</td>\n",
              "      <td>39</td>\n",
              "      <td>Female</td>\n",
              "      <td>More than 15L</td>\n",
              "      <td>893146.23</td>\n",
              "      <td>1</td>\n",
              "      <td>1</td>\n",
              "      <td>1</td>\n",
              "      <td>1</td>\n",
              "      <td>Good</td>\n",
              "      <td>1</td>\n",
              "    </tr>\n",
              "  </tbody>\n",
              "</table>\n",
              "</div>\n",
              "      <button class=\"colab-df-convert\" onclick=\"convertToInteractive('df-ef97b630-d061-42f2-aa9b-10faa0b0168f')\"\n",
              "              title=\"Convert this dataframe to an interactive table.\"\n",
              "              style=\"display:none;\">\n",
              "        \n",
              "  <svg xmlns=\"http://www.w3.org/2000/svg\" height=\"24px\"viewBox=\"0 0 24 24\"\n",
              "       width=\"24px\">\n",
              "    <path d=\"M0 0h24v24H0V0z\" fill=\"none\"/>\n",
              "    <path d=\"M18.56 5.44l.94 2.06.94-2.06 2.06-.94-2.06-.94-.94-2.06-.94 2.06-2.06.94zm-11 1L8.5 8.5l.94-2.06 2.06-.94-2.06-.94L8.5 2.5l-.94 2.06-2.06.94zm10 10l.94 2.06.94-2.06 2.06-.94-2.06-.94-.94-2.06-.94 2.06-2.06.94z\"/><path d=\"M17.41 7.96l-1.37-1.37c-.4-.4-.92-.59-1.43-.59-.52 0-1.04.2-1.43.59L10.3 9.45l-7.72 7.72c-.78.78-.78 2.05 0 2.83L4 21.41c.39.39.9.59 1.41.59.51 0 1.02-.2 1.41-.59l7.78-7.78 2.81-2.81c.8-.78.8-2.07 0-2.86zM5.41 20L4 18.59l7.72-7.72 1.47 1.35L5.41 20z\"/>\n",
              "  </svg>\n",
              "      </button>\n",
              "      \n",
              "  <style>\n",
              "    .colab-df-container {\n",
              "      display:flex;\n",
              "      flex-wrap:wrap;\n",
              "      gap: 12px;\n",
              "    }\n",
              "\n",
              "    .colab-df-convert {\n",
              "      background-color: #E8F0FE;\n",
              "      border: none;\n",
              "      border-radius: 50%;\n",
              "      cursor: pointer;\n",
              "      display: none;\n",
              "      fill: #1967D2;\n",
              "      height: 32px;\n",
              "      padding: 0 0 0 0;\n",
              "      width: 32px;\n",
              "    }\n",
              "\n",
              "    .colab-df-convert:hover {\n",
              "      background-color: #E2EBFA;\n",
              "      box-shadow: 0px 1px 2px rgba(60, 64, 67, 0.3), 0px 1px 3px 1px rgba(60, 64, 67, 0.15);\n",
              "      fill: #174EA6;\n",
              "    }\n",
              "\n",
              "    [theme=dark] .colab-df-convert {\n",
              "      background-color: #3B4455;\n",
              "      fill: #D2E3FC;\n",
              "    }\n",
              "\n",
              "    [theme=dark] .colab-df-convert:hover {\n",
              "      background-color: #434B5C;\n",
              "      box-shadow: 0px 1px 3px 1px rgba(0, 0, 0, 0.15);\n",
              "      filter: drop-shadow(0px 1px 2px rgba(0, 0, 0, 0.3));\n",
              "      fill: #FFFFFF;\n",
              "    }\n",
              "  </style>\n",
              "\n",
              "      <script>\n",
              "        const buttonEl =\n",
              "          document.querySelector('#df-ef97b630-d061-42f2-aa9b-10faa0b0168f button.colab-df-convert');\n",
              "        buttonEl.style.display =\n",
              "          google.colab.kernel.accessAllowed ? 'block' : 'none';\n",
              "\n",
              "        async function convertToInteractive(key) {\n",
              "          const element = document.querySelector('#df-ef97b630-d061-42f2-aa9b-10faa0b0168f');\n",
              "          const dataTable =\n",
              "            await google.colab.kernel.invokeFunction('convertToInteractive',\n",
              "                                                     [key], {});\n",
              "          if (!dataTable) return;\n",
              "\n",
              "          const docLinkHtml = 'Like what you see? Visit the ' +\n",
              "            '<a target=\"_blank\" href=https://colab.research.google.com/notebooks/data_table.ipynb>data table notebook</a>'\n",
              "            + ' to learn more about interactive tables.';\n",
              "          element.innerHTML = '';\n",
              "          dataTable['output_type'] = 'display_data';\n",
              "          await google.colab.output.renderOutput(dataTable, element);\n",
              "          const docLink = document.createElement('div');\n",
              "          docLink.innerHTML = docLinkHtml;\n",
              "          element.appendChild(docLink);\n",
              "        }\n",
              "      </script>\n",
              "    </div>\n",
              "  </div>\n",
              "  "
            ]
          },
          "metadata": {},
          "execution_count": 86
        }
      ]
    },
    {
      "cell_type": "code",
      "source": [
        "# drop the ID column since we will not consider it for training the model\n",
        "df.drop('ID',axis='columns',inplace=True)"
      ],
      "metadata": {
        "id": "362s1dJUGSbq"
      },
      "execution_count": 14,
      "outputs": []
    },
    {
      "cell_type": "code",
      "source": [
        "# find the type of data that each column contains\n",
        "df.dtypes"
      ],
      "metadata": {
        "colab": {
          "base_uri": "https://localhost:8080/"
        },
        "id": "XXYa6Df5GvCa",
        "outputId": "936cddbf-636c-4cbb-a2d0-539cc816bda1"
      },
      "execution_count": 15,
      "outputs": [
        {
          "output_type": "execute_result",
          "data": {
            "text/plain": [
              "Age                     int64\n",
              "Gender                 object\n",
              "Income                 object\n",
              "Balance               float64\n",
              "Vintage                 int64\n",
              "Transaction_Status      int64\n",
              "Product_Holdings       object\n",
              "Credit_Card             int64\n",
              "Credit_Category        object\n",
              "Is_Churn                int64\n",
              "dtype: object"
            ]
          },
          "metadata": {},
          "execution_count": 15
        }
      ]
    },
    {
      "cell_type": "code",
      "source": [
        "# lets have a look on the rows and columns in the data set\n",
        "df.shape"
      ],
      "metadata": {
        "colab": {
          "base_uri": "https://localhost:8080/"
        },
        "id": "VpILeywVHvs-",
        "outputId": "fc10f0da-6aff-442d-d6fd-84e437b78e05"
      },
      "execution_count": 10,
      "outputs": [
        {
          "output_type": "execute_result",
          "data": {
            "text/plain": [
              "(6650, 10)"
            ]
          },
          "metadata": {},
          "execution_count": 10
        }
      ]
    },
    {
      "cell_type": "code",
      "source": [
        "# lets find more about our data, calculating the mathematical aspects of the data\n",
        "df.describe()"
      ],
      "metadata": {
        "colab": {
          "base_uri": "https://localhost:8080/",
          "height": 300
        },
        "id": "rpLHah0ZH2lI",
        "outputId": "835625d7-ee6e-4e74-b3b8-4a0fdf5ea1d0"
      },
      "execution_count": 16,
      "outputs": [
        {
          "output_type": "execute_result",
          "data": {
            "text/plain": [
              "               Age       Balance      Vintage  Transaction_Status  \\\n",
              "count  6650.000000  6.650000e+03  6650.000000         6650.000000   \n",
              "mean     41.130226  8.045954e+05     2.250226            0.515789   \n",
              "std       9.685747  5.157549e+05     1.458795            0.499788   \n",
              "min      21.000000  6.300000e+01     0.000000            0.000000   \n",
              "25%      34.000000  3.922642e+05     1.000000            0.000000   \n",
              "50%      40.000000  7.649386e+05     2.000000            1.000000   \n",
              "75%      47.000000  1.147124e+06     3.000000            1.000000   \n",
              "max      72.000000  2.436616e+06     5.000000            1.000000   \n",
              "\n",
              "       Credit_Card     Is_Churn  \n",
              "count  6650.000000  6650.000000  \n",
              "mean      0.664361     0.231128  \n",
              "std       0.472249     0.421586  \n",
              "min       0.000000     0.000000  \n",
              "25%       0.000000     0.000000  \n",
              "50%       1.000000     0.000000  \n",
              "75%       1.000000     0.000000  \n",
              "max       1.000000     1.000000  "
            ],
            "text/html": [
              "\n",
              "  <div id=\"df-62e9abd7-c017-4ceb-9168-ba13ad8e2a06\">\n",
              "    <div class=\"colab-df-container\">\n",
              "      <div>\n",
              "<style scoped>\n",
              "    .dataframe tbody tr th:only-of-type {\n",
              "        vertical-align: middle;\n",
              "    }\n",
              "\n",
              "    .dataframe tbody tr th {\n",
              "        vertical-align: top;\n",
              "    }\n",
              "\n",
              "    .dataframe thead th {\n",
              "        text-align: right;\n",
              "    }\n",
              "</style>\n",
              "<table border=\"1\" class=\"dataframe\">\n",
              "  <thead>\n",
              "    <tr style=\"text-align: right;\">\n",
              "      <th></th>\n",
              "      <th>Age</th>\n",
              "      <th>Balance</th>\n",
              "      <th>Vintage</th>\n",
              "      <th>Transaction_Status</th>\n",
              "      <th>Credit_Card</th>\n",
              "      <th>Is_Churn</th>\n",
              "    </tr>\n",
              "  </thead>\n",
              "  <tbody>\n",
              "    <tr>\n",
              "      <th>count</th>\n",
              "      <td>6650.000000</td>\n",
              "      <td>6.650000e+03</td>\n",
              "      <td>6650.000000</td>\n",
              "      <td>6650.000000</td>\n",
              "      <td>6650.000000</td>\n",
              "      <td>6650.000000</td>\n",
              "    </tr>\n",
              "    <tr>\n",
              "      <th>mean</th>\n",
              "      <td>41.130226</td>\n",
              "      <td>8.045954e+05</td>\n",
              "      <td>2.250226</td>\n",
              "      <td>0.515789</td>\n",
              "      <td>0.664361</td>\n",
              "      <td>0.231128</td>\n",
              "    </tr>\n",
              "    <tr>\n",
              "      <th>std</th>\n",
              "      <td>9.685747</td>\n",
              "      <td>5.157549e+05</td>\n",
              "      <td>1.458795</td>\n",
              "      <td>0.499788</td>\n",
              "      <td>0.472249</td>\n",
              "      <td>0.421586</td>\n",
              "    </tr>\n",
              "    <tr>\n",
              "      <th>min</th>\n",
              "      <td>21.000000</td>\n",
              "      <td>6.300000e+01</td>\n",
              "      <td>0.000000</td>\n",
              "      <td>0.000000</td>\n",
              "      <td>0.000000</td>\n",
              "      <td>0.000000</td>\n",
              "    </tr>\n",
              "    <tr>\n",
              "      <th>25%</th>\n",
              "      <td>34.000000</td>\n",
              "      <td>3.922642e+05</td>\n",
              "      <td>1.000000</td>\n",
              "      <td>0.000000</td>\n",
              "      <td>0.000000</td>\n",
              "      <td>0.000000</td>\n",
              "    </tr>\n",
              "    <tr>\n",
              "      <th>50%</th>\n",
              "      <td>40.000000</td>\n",
              "      <td>7.649386e+05</td>\n",
              "      <td>2.000000</td>\n",
              "      <td>1.000000</td>\n",
              "      <td>1.000000</td>\n",
              "      <td>0.000000</td>\n",
              "    </tr>\n",
              "    <tr>\n",
              "      <th>75%</th>\n",
              "      <td>47.000000</td>\n",
              "      <td>1.147124e+06</td>\n",
              "      <td>3.000000</td>\n",
              "      <td>1.000000</td>\n",
              "      <td>1.000000</td>\n",
              "      <td>0.000000</td>\n",
              "    </tr>\n",
              "    <tr>\n",
              "      <th>max</th>\n",
              "      <td>72.000000</td>\n",
              "      <td>2.436616e+06</td>\n",
              "      <td>5.000000</td>\n",
              "      <td>1.000000</td>\n",
              "      <td>1.000000</td>\n",
              "      <td>1.000000</td>\n",
              "    </tr>\n",
              "  </tbody>\n",
              "</table>\n",
              "</div>\n",
              "      <button class=\"colab-df-convert\" onclick=\"convertToInteractive('df-62e9abd7-c017-4ceb-9168-ba13ad8e2a06')\"\n",
              "              title=\"Convert this dataframe to an interactive table.\"\n",
              "              style=\"display:none;\">\n",
              "        \n",
              "  <svg xmlns=\"http://www.w3.org/2000/svg\" height=\"24px\"viewBox=\"0 0 24 24\"\n",
              "       width=\"24px\">\n",
              "    <path d=\"M0 0h24v24H0V0z\" fill=\"none\"/>\n",
              "    <path d=\"M18.56 5.44l.94 2.06.94-2.06 2.06-.94-2.06-.94-.94-2.06-.94 2.06-2.06.94zm-11 1L8.5 8.5l.94-2.06 2.06-.94-2.06-.94L8.5 2.5l-.94 2.06-2.06.94zm10 10l.94 2.06.94-2.06 2.06-.94-2.06-.94-.94-2.06-.94 2.06-2.06.94z\"/><path d=\"M17.41 7.96l-1.37-1.37c-.4-.4-.92-.59-1.43-.59-.52 0-1.04.2-1.43.59L10.3 9.45l-7.72 7.72c-.78.78-.78 2.05 0 2.83L4 21.41c.39.39.9.59 1.41.59.51 0 1.02-.2 1.41-.59l7.78-7.78 2.81-2.81c.8-.78.8-2.07 0-2.86zM5.41 20L4 18.59l7.72-7.72 1.47 1.35L5.41 20z\"/>\n",
              "  </svg>\n",
              "      </button>\n",
              "      \n",
              "  <style>\n",
              "    .colab-df-container {\n",
              "      display:flex;\n",
              "      flex-wrap:wrap;\n",
              "      gap: 12px;\n",
              "    }\n",
              "\n",
              "    .colab-df-convert {\n",
              "      background-color: #E8F0FE;\n",
              "      border: none;\n",
              "      border-radius: 50%;\n",
              "      cursor: pointer;\n",
              "      display: none;\n",
              "      fill: #1967D2;\n",
              "      height: 32px;\n",
              "      padding: 0 0 0 0;\n",
              "      width: 32px;\n",
              "    }\n",
              "\n",
              "    .colab-df-convert:hover {\n",
              "      background-color: #E2EBFA;\n",
              "      box-shadow: 0px 1px 2px rgba(60, 64, 67, 0.3), 0px 1px 3px 1px rgba(60, 64, 67, 0.15);\n",
              "      fill: #174EA6;\n",
              "    }\n",
              "\n",
              "    [theme=dark] .colab-df-convert {\n",
              "      background-color: #3B4455;\n",
              "      fill: #D2E3FC;\n",
              "    }\n",
              "\n",
              "    [theme=dark] .colab-df-convert:hover {\n",
              "      background-color: #434B5C;\n",
              "      box-shadow: 0px 1px 3px 1px rgba(0, 0, 0, 0.15);\n",
              "      filter: drop-shadow(0px 1px 2px rgba(0, 0, 0, 0.3));\n",
              "      fill: #FFFFFF;\n",
              "    }\n",
              "  </style>\n",
              "\n",
              "      <script>\n",
              "        const buttonEl =\n",
              "          document.querySelector('#df-62e9abd7-c017-4ceb-9168-ba13ad8e2a06 button.colab-df-convert');\n",
              "        buttonEl.style.display =\n",
              "          google.colab.kernel.accessAllowed ? 'block' : 'none';\n",
              "\n",
              "        async function convertToInteractive(key) {\n",
              "          const element = document.querySelector('#df-62e9abd7-c017-4ceb-9168-ba13ad8e2a06');\n",
              "          const dataTable =\n",
              "            await google.colab.kernel.invokeFunction('convertToInteractive',\n",
              "                                                     [key], {});\n",
              "          if (!dataTable) return;\n",
              "\n",
              "          const docLinkHtml = 'Like what you see? Visit the ' +\n",
              "            '<a target=\"_blank\" href=https://colab.research.google.com/notebooks/data_table.ipynb>data table notebook</a>'\n",
              "            + ' to learn more about interactive tables.';\n",
              "          element.innerHTML = '';\n",
              "          dataTable['output_type'] = 'display_data';\n",
              "          await google.colab.output.renderOutput(dataTable, element);\n",
              "          const docLink = document.createElement('div');\n",
              "          docLink.innerHTML = docLinkHtml;\n",
              "          element.appendChild(docLink);\n",
              "        }\n",
              "      </script>\n",
              "    </div>\n",
              "  </div>\n",
              "  "
            ]
          },
          "metadata": {},
          "execution_count": 16
        }
      ]
    },
    {
      "cell_type": "code",
      "source": [
        "# to check if we have any missing data in any row\n",
        "df.info()"
      ],
      "metadata": {
        "colab": {
          "base_uri": "https://localhost:8080/"
        },
        "id": "t2bXulE2IiEo",
        "outputId": "4482d495-3d3f-4046-a9b0-21acab38c315"
      },
      "execution_count": 18,
      "outputs": [
        {
          "output_type": "stream",
          "name": "stdout",
          "text": [
            "<class 'pandas.core.frame.DataFrame'>\n",
            "RangeIndex: 6650 entries, 0 to 6649\n",
            "Data columns (total 10 columns):\n",
            " #   Column              Non-Null Count  Dtype  \n",
            "---  ------              --------------  -----  \n",
            " 0   Age                 6650 non-null   int64  \n",
            " 1   Gender              6650 non-null   object \n",
            " 2   Income              6650 non-null   object \n",
            " 3   Balance             6650 non-null   float64\n",
            " 4   Vintage             6650 non-null   int64  \n",
            " 5   Transaction_Status  6650 non-null   int64  \n",
            " 6   Product_Holdings    6650 non-null   object \n",
            " 7   Credit_Card         6650 non-null   int64  \n",
            " 8   Credit_Category     6650 non-null   object \n",
            " 9   Is_Churn            6650 non-null   int64  \n",
            "dtypes: float64(1), int64(5), object(4)\n",
            "memory usage: 519.7+ KB\n"
          ]
        }
      ]
    },
    {
      "cell_type": "markdown",
      "source": [
        "Below is the count of unique values which are present in each *row*"
      ],
      "metadata": {
        "id": "wR1aMg8fNrcO"
      }
    },
    {
      "cell_type": "code",
      "source": [
        "df.Age.value_counts()"
      ],
      "metadata": {
        "colab": {
          "base_uri": "https://localhost:8080/"
        },
        "id": "LD3cmtqOJEKO",
        "outputId": "709c1caf-d344-470f-ea2a-0281cd7600e0"
      },
      "execution_count": 19,
      "outputs": [
        {
          "output_type": "execute_result",
          "data": {
            "text/plain": [
              "39    306\n",
              "38    284\n",
              "36    282\n",
              "40    277\n",
              "35    271\n",
              "33    267\n",
              "34    256\n",
              "41    256\n",
              "37    248\n",
              "42    233\n",
              "32    226\n",
              "43    224\n",
              "45    218\n",
              "31    217\n",
              "44    213\n",
              "30    198\n",
              "46    193\n",
              "47    189\n",
              "29    179\n",
              "28    150\n",
              "49    149\n",
              "48    149\n",
              "50    147\n",
              "51    135\n",
              "52    132\n",
              "27    128\n",
              "53    111\n",
              "26    101\n",
              "55     97\n",
              "54     94\n",
              "56     88\n",
              "57     73\n",
              "60     62\n",
              "59     58\n",
              "58     55\n",
              "25     49\n",
              "62     40\n",
              "63     35\n",
              "65     35\n",
              "64     34\n",
              "24     33\n",
              "61     32\n",
              "66     30\n",
              "23     25\n",
              "68     16\n",
              "67     15\n",
              "22     12\n",
              "71     10\n",
              "69      9\n",
              "70      4\n",
              "72      3\n",
              "21      2\n",
              "Name: Age, dtype: int64"
            ]
          },
          "metadata": {},
          "execution_count": 19
        }
      ]
    },
    {
      "cell_type": "code",
      "source": [
        "df.Gender.value_counts()"
      ],
      "metadata": {
        "colab": {
          "base_uri": "https://localhost:8080/"
        },
        "id": "FS9Px9WBJOrQ",
        "outputId": "aff2ef1c-2376-45df-c8da-381759046e62"
      },
      "execution_count": 20,
      "outputs": [
        {
          "output_type": "execute_result",
          "data": {
            "text/plain": [
              "Male      3612\n",
              "Female    3038\n",
              "Name: Gender, dtype: int64"
            ]
          },
          "metadata": {},
          "execution_count": 20
        }
      ]
    },
    {
      "cell_type": "code",
      "source": [
        "df.Income.value_counts()"
      ],
      "metadata": {
        "colab": {
          "base_uri": "https://localhost:8080/"
        },
        "id": "SxuKFIfsJWo_",
        "outputId": "962d6419-1686-498a-fb12-c76b432d71e8"
      },
      "execution_count": 21,
      "outputs": [
        {
          "output_type": "execute_result",
          "data": {
            "text/plain": [
              "10L - 15L        1885\n",
              "5L - 10L         1847\n",
              "Less than 5L     1573\n",
              "More than 15L    1345\n",
              "Name: Income, dtype: int64"
            ]
          },
          "metadata": {},
          "execution_count": 21
        }
      ]
    },
    {
      "cell_type": "code",
      "source": [
        "df.Balance.value_counts()"
      ],
      "metadata": {
        "colab": {
          "base_uri": "https://localhost:8080/"
        },
        "id": "2mmGM-WPJjfA",
        "outputId": "7e8707c6-bd6f-4aea-ec87-cd88d5007a43"
      },
      "execution_count": 22,
      "outputs": [
        {
          "output_type": "execute_result",
          "data": {
            "text/plain": [
              "117549.00     2\n",
              "76122.00      2\n",
              "131121.00     2\n",
              "102123.00     2\n",
              "138825.00     2\n",
              "             ..\n",
              "289348.92     1\n",
              "1031298.48    1\n",
              "242901.27     1\n",
              "719339.85     1\n",
              "826947.27     1\n",
              "Name: Balance, Length: 6643, dtype: int64"
            ]
          },
          "metadata": {},
          "execution_count": 22
        }
      ]
    },
    {
      "cell_type": "code",
      "source": [
        "df.Vintage.value_counts()"
      ],
      "metadata": {
        "colab": {
          "base_uri": "https://localhost:8080/"
        },
        "id": "P13kowl7Jjv5",
        "outputId": "bb0ffc19-9324-44ed-eee5-dc081e7c5670"
      },
      "execution_count": 23,
      "outputs": [
        {
          "output_type": "execute_result",
          "data": {
            "text/plain": [
              "3    1405\n",
              "1    1354\n",
              "2    1328\n",
              "4    1296\n",
              "0     956\n",
              "5     311\n",
              "Name: Vintage, dtype: int64"
            ]
          },
          "metadata": {},
          "execution_count": 23
        }
      ]
    },
    {
      "cell_type": "code",
      "source": [
        "df.Transaction_Status.value_counts()"
      ],
      "metadata": {
        "colab": {
          "base_uri": "https://localhost:8080/"
        },
        "id": "jy4GhNztJj-k",
        "outputId": "9d85784e-fd67-4cbf-d7b0-2480476047fe"
      },
      "execution_count": 24,
      "outputs": [
        {
          "output_type": "execute_result",
          "data": {
            "text/plain": [
              "1    3430\n",
              "0    3220\n",
              "Name: Transaction_Status, dtype: int64"
            ]
          },
          "metadata": {},
          "execution_count": 24
        }
      ]
    },
    {
      "cell_type": "code",
      "source": [
        "df.Credit_Card.value_counts()"
      ],
      "metadata": {
        "colab": {
          "base_uri": "https://localhost:8080/"
        },
        "id": "ZVxf54MIJkNa",
        "outputId": "bc4ec966-f4f0-48c8-cafd-4142066b5100"
      },
      "execution_count": 25,
      "outputs": [
        {
          "output_type": "execute_result",
          "data": {
            "text/plain": [
              "1    4418\n",
              "0    2232\n",
              "Name: Credit_Card, dtype: int64"
            ]
          },
          "metadata": {},
          "execution_count": 25
        }
      ]
    },
    {
      "cell_type": "code",
      "source": [
        "df.Credit_Category.value_counts()"
      ],
      "metadata": {
        "colab": {
          "base_uri": "https://localhost:8080/"
        },
        "id": "cIfUxeY5Jl9U",
        "outputId": "7e05f809-4599-4804-fd1a-d7da50e32b4a"
      },
      "execution_count": 26,
      "outputs": [
        {
          "output_type": "execute_result",
          "data": {
            "text/plain": [
              "Poor       3076\n",
              "Average    2043\n",
              "Good       1531\n",
              "Name: Credit_Category, dtype: int64"
            ]
          },
          "metadata": {},
          "execution_count": 26
        }
      ]
    },
    {
      "cell_type": "markdown",
      "source": [
        "Below is the count of customers who have churned and who did not"
      ],
      "metadata": {
        "id": "Qwt5Vn_EOGje"
      }
    },
    {
      "cell_type": "code",
      "source": [
        "df[df.Is_Churn == 0]"
      ],
      "metadata": {
        "colab": {
          "base_uri": "https://localhost:8080/",
          "height": 783
        },
        "id": "gsMbzr95TzW7",
        "outputId": "e2b07645-946e-456f-a92a-f959eb74dc3f"
      },
      "execution_count": 27,
      "outputs": [
        {
          "output_type": "execute_result",
          "data": {
            "text/plain": [
              "      Age  Gender         Income     Balance  Vintage  Transaction_Status  \\\n",
              "1      53  Female   Less than 5L   875572.11        2                   1   \n",
              "2      35  Female  More than 15L   701607.06        2                   1   \n",
              "5      31  Female   Less than 5L   111026.79        4                   1   \n",
              "6      56    Male   Less than 5L  1072102.23        2                   1   \n",
              "9      32  Female       5L - 10L   770796.81        3                   0   \n",
              "...   ...     ...            ...         ...      ...                 ...   \n",
              "6643   57  Female   Less than 5L   974391.75        3                   1   \n",
              "6644   38  Female       5L - 10L    37348.11        4                   0   \n",
              "6646   42  Female       5L - 10L   596286.54        3                   1   \n",
              "6647   29    Male   Less than 5L   979298.19        2                   0   \n",
              "6649   37    Male  More than 15L   826947.27        1                   1   \n",
              "\n",
              "     Product_Holdings  Credit_Card Credit_Category  Is_Churn  \n",
              "1                   1            1            Poor         0  \n",
              "2                   2            0            Poor         0  \n",
              "5                   1            0            Good         0  \n",
              "6                   2            1         Average         0  \n",
              "9                   1            1            Poor         0  \n",
              "...               ...          ...             ...       ...  \n",
              "6643                2            0            Poor         0  \n",
              "6644                2            1         Average         0  \n",
              "6646                2            1         Average         0  \n",
              "6647                2            0            Poor         0  \n",
              "6649                2            0            Good         0  \n",
              "\n",
              "[5113 rows x 10 columns]"
            ],
            "text/html": [
              "\n",
              "  <div id=\"df-bf30486b-ba8c-4223-aad3-2a5dc3297d13\">\n",
              "    <div class=\"colab-df-container\">\n",
              "      <div>\n",
              "<style scoped>\n",
              "    .dataframe tbody tr th:only-of-type {\n",
              "        vertical-align: middle;\n",
              "    }\n",
              "\n",
              "    .dataframe tbody tr th {\n",
              "        vertical-align: top;\n",
              "    }\n",
              "\n",
              "    .dataframe thead th {\n",
              "        text-align: right;\n",
              "    }\n",
              "</style>\n",
              "<table border=\"1\" class=\"dataframe\">\n",
              "  <thead>\n",
              "    <tr style=\"text-align: right;\">\n",
              "      <th></th>\n",
              "      <th>Age</th>\n",
              "      <th>Gender</th>\n",
              "      <th>Income</th>\n",
              "      <th>Balance</th>\n",
              "      <th>Vintage</th>\n",
              "      <th>Transaction_Status</th>\n",
              "      <th>Product_Holdings</th>\n",
              "      <th>Credit_Card</th>\n",
              "      <th>Credit_Category</th>\n",
              "      <th>Is_Churn</th>\n",
              "    </tr>\n",
              "  </thead>\n",
              "  <tbody>\n",
              "    <tr>\n",
              "      <th>1</th>\n",
              "      <td>53</td>\n",
              "      <td>Female</td>\n",
              "      <td>Less than 5L</td>\n",
              "      <td>875572.11</td>\n",
              "      <td>2</td>\n",
              "      <td>1</td>\n",
              "      <td>1</td>\n",
              "      <td>1</td>\n",
              "      <td>Poor</td>\n",
              "      <td>0</td>\n",
              "    </tr>\n",
              "    <tr>\n",
              "      <th>2</th>\n",
              "      <td>35</td>\n",
              "      <td>Female</td>\n",
              "      <td>More than 15L</td>\n",
              "      <td>701607.06</td>\n",
              "      <td>2</td>\n",
              "      <td>1</td>\n",
              "      <td>2</td>\n",
              "      <td>0</td>\n",
              "      <td>Poor</td>\n",
              "      <td>0</td>\n",
              "    </tr>\n",
              "    <tr>\n",
              "      <th>5</th>\n",
              "      <td>31</td>\n",
              "      <td>Female</td>\n",
              "      <td>Less than 5L</td>\n",
              "      <td>111026.79</td>\n",
              "      <td>4</td>\n",
              "      <td>1</td>\n",
              "      <td>1</td>\n",
              "      <td>0</td>\n",
              "      <td>Good</td>\n",
              "      <td>0</td>\n",
              "    </tr>\n",
              "    <tr>\n",
              "      <th>6</th>\n",
              "      <td>56</td>\n",
              "      <td>Male</td>\n",
              "      <td>Less than 5L</td>\n",
              "      <td>1072102.23</td>\n",
              "      <td>2</td>\n",
              "      <td>1</td>\n",
              "      <td>2</td>\n",
              "      <td>1</td>\n",
              "      <td>Average</td>\n",
              "      <td>0</td>\n",
              "    </tr>\n",
              "    <tr>\n",
              "      <th>9</th>\n",
              "      <td>32</td>\n",
              "      <td>Female</td>\n",
              "      <td>5L - 10L</td>\n",
              "      <td>770796.81</td>\n",
              "      <td>3</td>\n",
              "      <td>0</td>\n",
              "      <td>1</td>\n",
              "      <td>1</td>\n",
              "      <td>Poor</td>\n",
              "      <td>0</td>\n",
              "    </tr>\n",
              "    <tr>\n",
              "      <th>...</th>\n",
              "      <td>...</td>\n",
              "      <td>...</td>\n",
              "      <td>...</td>\n",
              "      <td>...</td>\n",
              "      <td>...</td>\n",
              "      <td>...</td>\n",
              "      <td>...</td>\n",
              "      <td>...</td>\n",
              "      <td>...</td>\n",
              "      <td>...</td>\n",
              "    </tr>\n",
              "    <tr>\n",
              "      <th>6643</th>\n",
              "      <td>57</td>\n",
              "      <td>Female</td>\n",
              "      <td>Less than 5L</td>\n",
              "      <td>974391.75</td>\n",
              "      <td>3</td>\n",
              "      <td>1</td>\n",
              "      <td>2</td>\n",
              "      <td>0</td>\n",
              "      <td>Poor</td>\n",
              "      <td>0</td>\n",
              "    </tr>\n",
              "    <tr>\n",
              "      <th>6644</th>\n",
              "      <td>38</td>\n",
              "      <td>Female</td>\n",
              "      <td>5L - 10L</td>\n",
              "      <td>37348.11</td>\n",
              "      <td>4</td>\n",
              "      <td>0</td>\n",
              "      <td>2</td>\n",
              "      <td>1</td>\n",
              "      <td>Average</td>\n",
              "      <td>0</td>\n",
              "    </tr>\n",
              "    <tr>\n",
              "      <th>6646</th>\n",
              "      <td>42</td>\n",
              "      <td>Female</td>\n",
              "      <td>5L - 10L</td>\n",
              "      <td>596286.54</td>\n",
              "      <td>3</td>\n",
              "      <td>1</td>\n",
              "      <td>2</td>\n",
              "      <td>1</td>\n",
              "      <td>Average</td>\n",
              "      <td>0</td>\n",
              "    </tr>\n",
              "    <tr>\n",
              "      <th>6647</th>\n",
              "      <td>29</td>\n",
              "      <td>Male</td>\n",
              "      <td>Less than 5L</td>\n",
              "      <td>979298.19</td>\n",
              "      <td>2</td>\n",
              "      <td>0</td>\n",
              "      <td>2</td>\n",
              "      <td>0</td>\n",
              "      <td>Poor</td>\n",
              "      <td>0</td>\n",
              "    </tr>\n",
              "    <tr>\n",
              "      <th>6649</th>\n",
              "      <td>37</td>\n",
              "      <td>Male</td>\n",
              "      <td>More than 15L</td>\n",
              "      <td>826947.27</td>\n",
              "      <td>1</td>\n",
              "      <td>1</td>\n",
              "      <td>2</td>\n",
              "      <td>0</td>\n",
              "      <td>Good</td>\n",
              "      <td>0</td>\n",
              "    </tr>\n",
              "  </tbody>\n",
              "</table>\n",
              "<p>5113 rows × 10 columns</p>\n",
              "</div>\n",
              "      <button class=\"colab-df-convert\" onclick=\"convertToInteractive('df-bf30486b-ba8c-4223-aad3-2a5dc3297d13')\"\n",
              "              title=\"Convert this dataframe to an interactive table.\"\n",
              "              style=\"display:none;\">\n",
              "        \n",
              "  <svg xmlns=\"http://www.w3.org/2000/svg\" height=\"24px\"viewBox=\"0 0 24 24\"\n",
              "       width=\"24px\">\n",
              "    <path d=\"M0 0h24v24H0V0z\" fill=\"none\"/>\n",
              "    <path d=\"M18.56 5.44l.94 2.06.94-2.06 2.06-.94-2.06-.94-.94-2.06-.94 2.06-2.06.94zm-11 1L8.5 8.5l.94-2.06 2.06-.94-2.06-.94L8.5 2.5l-.94 2.06-2.06.94zm10 10l.94 2.06.94-2.06 2.06-.94-2.06-.94-.94-2.06-.94 2.06-2.06.94z\"/><path d=\"M17.41 7.96l-1.37-1.37c-.4-.4-.92-.59-1.43-.59-.52 0-1.04.2-1.43.59L10.3 9.45l-7.72 7.72c-.78.78-.78 2.05 0 2.83L4 21.41c.39.39.9.59 1.41.59.51 0 1.02-.2 1.41-.59l7.78-7.78 2.81-2.81c.8-.78.8-2.07 0-2.86zM5.41 20L4 18.59l7.72-7.72 1.47 1.35L5.41 20z\"/>\n",
              "  </svg>\n",
              "      </button>\n",
              "      \n",
              "  <style>\n",
              "    .colab-df-container {\n",
              "      display:flex;\n",
              "      flex-wrap:wrap;\n",
              "      gap: 12px;\n",
              "    }\n",
              "\n",
              "    .colab-df-convert {\n",
              "      background-color: #E8F0FE;\n",
              "      border: none;\n",
              "      border-radius: 50%;\n",
              "      cursor: pointer;\n",
              "      display: none;\n",
              "      fill: #1967D2;\n",
              "      height: 32px;\n",
              "      padding: 0 0 0 0;\n",
              "      width: 32px;\n",
              "    }\n",
              "\n",
              "    .colab-df-convert:hover {\n",
              "      background-color: #E2EBFA;\n",
              "      box-shadow: 0px 1px 2px rgba(60, 64, 67, 0.3), 0px 1px 3px 1px rgba(60, 64, 67, 0.15);\n",
              "      fill: #174EA6;\n",
              "    }\n",
              "\n",
              "    [theme=dark] .colab-df-convert {\n",
              "      background-color: #3B4455;\n",
              "      fill: #D2E3FC;\n",
              "    }\n",
              "\n",
              "    [theme=dark] .colab-df-convert:hover {\n",
              "      background-color: #434B5C;\n",
              "      box-shadow: 0px 1px 3px 1px rgba(0, 0, 0, 0.15);\n",
              "      filter: drop-shadow(0px 1px 2px rgba(0, 0, 0, 0.3));\n",
              "      fill: #FFFFFF;\n",
              "    }\n",
              "  </style>\n",
              "\n",
              "      <script>\n",
              "        const buttonEl =\n",
              "          document.querySelector('#df-bf30486b-ba8c-4223-aad3-2a5dc3297d13 button.colab-df-convert');\n",
              "        buttonEl.style.display =\n",
              "          google.colab.kernel.accessAllowed ? 'block' : 'none';\n",
              "\n",
              "        async function convertToInteractive(key) {\n",
              "          const element = document.querySelector('#df-bf30486b-ba8c-4223-aad3-2a5dc3297d13');\n",
              "          const dataTable =\n",
              "            await google.colab.kernel.invokeFunction('convertToInteractive',\n",
              "                                                     [key], {});\n",
              "          if (!dataTable) return;\n",
              "\n",
              "          const docLinkHtml = 'Like what you see? Visit the ' +\n",
              "            '<a target=\"_blank\" href=https://colab.research.google.com/notebooks/data_table.ipynb>data table notebook</a>'\n",
              "            + ' to learn more about interactive tables.';\n",
              "          element.innerHTML = '';\n",
              "          dataTable['output_type'] = 'display_data';\n",
              "          await google.colab.output.renderOutput(dataTable, element);\n",
              "          const docLink = document.createElement('div');\n",
              "          docLink.innerHTML = docLinkHtml;\n",
              "          element.appendChild(docLink);\n",
              "        }\n",
              "      </script>\n",
              "    </div>\n",
              "  </div>\n",
              "  "
            ]
          },
          "metadata": {},
          "execution_count": 27
        }
      ]
    },
    {
      "cell_type": "code",
      "source": [
        "df[df.Is_Churn == 1]"
      ],
      "metadata": {
        "colab": {
          "base_uri": "https://localhost:8080/",
          "height": 713
        },
        "id": "VwlaXkcRUTVI",
        "outputId": "8dcdc797-b1dd-4937-f579-615f4175baf9"
      },
      "execution_count": 28,
      "outputs": [
        {
          "output_type": "execute_result",
          "data": {
            "text/plain": [
              "      Age  Gender         Income     Balance  Vintage  Transaction_Status  \\\n",
              "0      36  Female       5L - 10L   563266.44        4                   0   \n",
              "3      43  Female  More than 15L  1393922.16        0                   1   \n",
              "4      39  Female  More than 15L   893146.23        1                   1   \n",
              "7      41  Female      10L - 15L  1587489.75        4                   0   \n",
              "8      60  Female      10L - 15L  1465812.54        0                   0   \n",
              "...   ...     ...            ...         ...      ...                 ...   \n",
              "6625   43  Female      10L - 15L   793966.68        3                   0   \n",
              "6632   52    Male   Less than 5L  1319181.84        2                   0   \n",
              "6640   38  Female       5L - 10L  1308630.60        4                   0   \n",
              "6645   61    Male       5L - 10L  1354526.19        4                   1   \n",
              "6648   66  Female      10L - 15L   395233.65        3                   0   \n",
              "\n",
              "     Product_Holdings  Credit_Card Credit_Category  Is_Churn  \n",
              "0                   1            0         Average         1  \n",
              "3                   2            1            Poor         1  \n",
              "4                   1            1            Good         1  \n",
              "7                   1            1            Poor         1  \n",
              "8                   1            1            Poor         1  \n",
              "...               ...          ...             ...       ...  \n",
              "6625                1            0            Poor         1  \n",
              "6632                2            1            Poor         1  \n",
              "6640                2            1            Poor         1  \n",
              "6645                2            1            Poor         1  \n",
              "6648                2            1            Poor         1  \n",
              "\n",
              "[1537 rows x 10 columns]"
            ],
            "text/html": [
              "\n",
              "  <div id=\"df-72595263-08b2-4f06-b685-78dee13ae72b\">\n",
              "    <div class=\"colab-df-container\">\n",
              "      <div>\n",
              "<style scoped>\n",
              "    .dataframe tbody tr th:only-of-type {\n",
              "        vertical-align: middle;\n",
              "    }\n",
              "\n",
              "    .dataframe tbody tr th {\n",
              "        vertical-align: top;\n",
              "    }\n",
              "\n",
              "    .dataframe thead th {\n",
              "        text-align: right;\n",
              "    }\n",
              "</style>\n",
              "<table border=\"1\" class=\"dataframe\">\n",
              "  <thead>\n",
              "    <tr style=\"text-align: right;\">\n",
              "      <th></th>\n",
              "      <th>Age</th>\n",
              "      <th>Gender</th>\n",
              "      <th>Income</th>\n",
              "      <th>Balance</th>\n",
              "      <th>Vintage</th>\n",
              "      <th>Transaction_Status</th>\n",
              "      <th>Product_Holdings</th>\n",
              "      <th>Credit_Card</th>\n",
              "      <th>Credit_Category</th>\n",
              "      <th>Is_Churn</th>\n",
              "    </tr>\n",
              "  </thead>\n",
              "  <tbody>\n",
              "    <tr>\n",
              "      <th>0</th>\n",
              "      <td>36</td>\n",
              "      <td>Female</td>\n",
              "      <td>5L - 10L</td>\n",
              "      <td>563266.44</td>\n",
              "      <td>4</td>\n",
              "      <td>0</td>\n",
              "      <td>1</td>\n",
              "      <td>0</td>\n",
              "      <td>Average</td>\n",
              "      <td>1</td>\n",
              "    </tr>\n",
              "    <tr>\n",
              "      <th>3</th>\n",
              "      <td>43</td>\n",
              "      <td>Female</td>\n",
              "      <td>More than 15L</td>\n",
              "      <td>1393922.16</td>\n",
              "      <td>0</td>\n",
              "      <td>1</td>\n",
              "      <td>2</td>\n",
              "      <td>1</td>\n",
              "      <td>Poor</td>\n",
              "      <td>1</td>\n",
              "    </tr>\n",
              "    <tr>\n",
              "      <th>4</th>\n",
              "      <td>39</td>\n",
              "      <td>Female</td>\n",
              "      <td>More than 15L</td>\n",
              "      <td>893146.23</td>\n",
              "      <td>1</td>\n",
              "      <td>1</td>\n",
              "      <td>1</td>\n",
              "      <td>1</td>\n",
              "      <td>Good</td>\n",
              "      <td>1</td>\n",
              "    </tr>\n",
              "    <tr>\n",
              "      <th>7</th>\n",
              "      <td>41</td>\n",
              "      <td>Female</td>\n",
              "      <td>10L - 15L</td>\n",
              "      <td>1587489.75</td>\n",
              "      <td>4</td>\n",
              "      <td>0</td>\n",
              "      <td>1</td>\n",
              "      <td>1</td>\n",
              "      <td>Poor</td>\n",
              "      <td>1</td>\n",
              "    </tr>\n",
              "    <tr>\n",
              "      <th>8</th>\n",
              "      <td>60</td>\n",
              "      <td>Female</td>\n",
              "      <td>10L - 15L</td>\n",
              "      <td>1465812.54</td>\n",
              "      <td>0</td>\n",
              "      <td>0</td>\n",
              "      <td>1</td>\n",
              "      <td>1</td>\n",
              "      <td>Poor</td>\n",
              "      <td>1</td>\n",
              "    </tr>\n",
              "    <tr>\n",
              "      <th>...</th>\n",
              "      <td>...</td>\n",
              "      <td>...</td>\n",
              "      <td>...</td>\n",
              "      <td>...</td>\n",
              "      <td>...</td>\n",
              "      <td>...</td>\n",
              "      <td>...</td>\n",
              "      <td>...</td>\n",
              "      <td>...</td>\n",
              "      <td>...</td>\n",
              "    </tr>\n",
              "    <tr>\n",
              "      <th>6625</th>\n",
              "      <td>43</td>\n",
              "      <td>Female</td>\n",
              "      <td>10L - 15L</td>\n",
              "      <td>793966.68</td>\n",
              "      <td>3</td>\n",
              "      <td>0</td>\n",
              "      <td>1</td>\n",
              "      <td>0</td>\n",
              "      <td>Poor</td>\n",
              "      <td>1</td>\n",
              "    </tr>\n",
              "    <tr>\n",
              "      <th>6632</th>\n",
              "      <td>52</td>\n",
              "      <td>Male</td>\n",
              "      <td>Less than 5L</td>\n",
              "      <td>1319181.84</td>\n",
              "      <td>2</td>\n",
              "      <td>0</td>\n",
              "      <td>2</td>\n",
              "      <td>1</td>\n",
              "      <td>Poor</td>\n",
              "      <td>1</td>\n",
              "    </tr>\n",
              "    <tr>\n",
              "      <th>6640</th>\n",
              "      <td>38</td>\n",
              "      <td>Female</td>\n",
              "      <td>5L - 10L</td>\n",
              "      <td>1308630.60</td>\n",
              "      <td>4</td>\n",
              "      <td>0</td>\n",
              "      <td>2</td>\n",
              "      <td>1</td>\n",
              "      <td>Poor</td>\n",
              "      <td>1</td>\n",
              "    </tr>\n",
              "    <tr>\n",
              "      <th>6645</th>\n",
              "      <td>61</td>\n",
              "      <td>Male</td>\n",
              "      <td>5L - 10L</td>\n",
              "      <td>1354526.19</td>\n",
              "      <td>4</td>\n",
              "      <td>1</td>\n",
              "      <td>2</td>\n",
              "      <td>1</td>\n",
              "      <td>Poor</td>\n",
              "      <td>1</td>\n",
              "    </tr>\n",
              "    <tr>\n",
              "      <th>6648</th>\n",
              "      <td>66</td>\n",
              "      <td>Female</td>\n",
              "      <td>10L - 15L</td>\n",
              "      <td>395233.65</td>\n",
              "      <td>3</td>\n",
              "      <td>0</td>\n",
              "      <td>2</td>\n",
              "      <td>1</td>\n",
              "      <td>Poor</td>\n",
              "      <td>1</td>\n",
              "    </tr>\n",
              "  </tbody>\n",
              "</table>\n",
              "<p>1537 rows × 10 columns</p>\n",
              "</div>\n",
              "      <button class=\"colab-df-convert\" onclick=\"convertToInteractive('df-72595263-08b2-4f06-b685-78dee13ae72b')\"\n",
              "              title=\"Convert this dataframe to an interactive table.\"\n",
              "              style=\"display:none;\">\n",
              "        \n",
              "  <svg xmlns=\"http://www.w3.org/2000/svg\" height=\"24px\"viewBox=\"0 0 24 24\"\n",
              "       width=\"24px\">\n",
              "    <path d=\"M0 0h24v24H0V0z\" fill=\"none\"/>\n",
              "    <path d=\"M18.56 5.44l.94 2.06.94-2.06 2.06-.94-2.06-.94-.94-2.06-.94 2.06-2.06.94zm-11 1L8.5 8.5l.94-2.06 2.06-.94-2.06-.94L8.5 2.5l-.94 2.06-2.06.94zm10 10l.94 2.06.94-2.06 2.06-.94-2.06-.94-.94-2.06-.94 2.06-2.06.94z\"/><path d=\"M17.41 7.96l-1.37-1.37c-.4-.4-.92-.59-1.43-.59-.52 0-1.04.2-1.43.59L10.3 9.45l-7.72 7.72c-.78.78-.78 2.05 0 2.83L4 21.41c.39.39.9.59 1.41.59.51 0 1.02-.2 1.41-.59l7.78-7.78 2.81-2.81c.8-.78.8-2.07 0-2.86zM5.41 20L4 18.59l7.72-7.72 1.47 1.35L5.41 20z\"/>\n",
              "  </svg>\n",
              "      </button>\n",
              "      \n",
              "  <style>\n",
              "    .colab-df-container {\n",
              "      display:flex;\n",
              "      flex-wrap:wrap;\n",
              "      gap: 12px;\n",
              "    }\n",
              "\n",
              "    .colab-df-convert {\n",
              "      background-color: #E8F0FE;\n",
              "      border: none;\n",
              "      border-radius: 50%;\n",
              "      cursor: pointer;\n",
              "      display: none;\n",
              "      fill: #1967D2;\n",
              "      height: 32px;\n",
              "      padding: 0 0 0 0;\n",
              "      width: 32px;\n",
              "    }\n",
              "\n",
              "    .colab-df-convert:hover {\n",
              "      background-color: #E2EBFA;\n",
              "      box-shadow: 0px 1px 2px rgba(60, 64, 67, 0.3), 0px 1px 3px 1px rgba(60, 64, 67, 0.15);\n",
              "      fill: #174EA6;\n",
              "    }\n",
              "\n",
              "    [theme=dark] .colab-df-convert {\n",
              "      background-color: #3B4455;\n",
              "      fill: #D2E3FC;\n",
              "    }\n",
              "\n",
              "    [theme=dark] .colab-df-convert:hover {\n",
              "      background-color: #434B5C;\n",
              "      box-shadow: 0px 1px 3px 1px rgba(0, 0, 0, 0.15);\n",
              "      filter: drop-shadow(0px 1px 2px rgba(0, 0, 0, 0.3));\n",
              "      fill: #FFFFFF;\n",
              "    }\n",
              "  </style>\n",
              "\n",
              "      <script>\n",
              "        const buttonEl =\n",
              "          document.querySelector('#df-72595263-08b2-4f06-b685-78dee13ae72b button.colab-df-convert');\n",
              "        buttonEl.style.display =\n",
              "          google.colab.kernel.accessAllowed ? 'block' : 'none';\n",
              "\n",
              "        async function convertToInteractive(key) {\n",
              "          const element = document.querySelector('#df-72595263-08b2-4f06-b685-78dee13ae72b');\n",
              "          const dataTable =\n",
              "            await google.colab.kernel.invokeFunction('convertToInteractive',\n",
              "                                                     [key], {});\n",
              "          if (!dataTable) return;\n",
              "\n",
              "          const docLinkHtml = 'Like what you see? Visit the ' +\n",
              "            '<a target=\"_blank\" href=https://colab.research.google.com/notebooks/data_table.ipynb>data table notebook</a>'\n",
              "            + ' to learn more about interactive tables.';\n",
              "          element.innerHTML = '';\n",
              "          dataTable['output_type'] = 'display_data';\n",
              "          await google.colab.output.renderOutput(dataTable, element);\n",
              "          const docLink = document.createElement('div');\n",
              "          docLink.innerHTML = docLinkHtml;\n",
              "          element.appendChild(docLink);\n",
              "        }\n",
              "      </script>\n",
              "    </div>\n",
              "  </div>\n",
              "  "
            ]
          },
          "metadata": {},
          "execution_count": 28
        }
      ]
    },
    {
      "cell_type": "markdown",
      "source": [
        "Data *Visualization* and plotting"
      ],
      "metadata": {
        "id": "1IlU8KxKT13B"
      }
    },
    {
      "cell_type": "code",
      "source": [
        "Vintage_NoChurn = df[df.Is_Churn==0].Vintage\n",
        "Vintage_Churn = df[df.Is_Churn==1].Vintage\n",
        "\n",
        "plt.xlabel(\"Vintage\")\n",
        "plt.ylabel(\"Number Of Customers\")\n",
        "plt.title(\"Data Visualization for Customer Churn based on Customer Vintage with the bank\")\n",
        "\n",
        "plt.hist([Vintage_NoChurn, Vintage_Churn], rwidth=0.95, color=['darkgreen','maroon'],label=['No Churn','Churn'])\n",
        "plt.legend()"
      ],
      "metadata": {
        "colab": {
          "base_uri": "https://localhost:8080/",
          "height": 402
        },
        "id": "FHdquJxrUjci",
        "outputId": "02a3b04a-0018-43b4-fade-23b5ca4d089b"
      },
      "execution_count": 35,
      "outputs": [
        {
          "output_type": "stream",
          "name": "stderr",
          "text": [
            "/usr/local/lib/python3.7/dist-packages/numpy/core/fromnumeric.py:3208: VisibleDeprecationWarning: Creating an ndarray from ragged nested sequences (which is a list-or-tuple of lists-or-tuples-or ndarrays with different lengths or shapes) is deprecated. If you meant to do this, you must specify 'dtype=object' when creating the ndarray.\n",
            "  return asarray(a).size\n",
            "/usr/local/lib/python3.7/dist-packages/matplotlib/cbook/__init__.py:1376: VisibleDeprecationWarning: Creating an ndarray from ragged nested sequences (which is a list-or-tuple of lists-or-tuples-or ndarrays with different lengths or shapes) is deprecated. If you meant to do this, you must specify 'dtype=object' when creating the ndarray.\n",
            "  X = np.atleast_1d(X.T if isinstance(X, np.ndarray) else np.asarray(X))\n"
          ]
        },
        {
          "output_type": "execute_result",
          "data": {
            "text/plain": [
              "<matplotlib.legend.Legend at 0x7fbeede9bbd0>"
            ]
          },
          "metadata": {},
          "execution_count": 35
        },
        {
          "output_type": "display_data",
          "data": {
            "text/plain": [
              "<Figure size 432x288 with 1 Axes>"
            ],
            "image/png": "[encoded data removed]"
          },
          "metadata": {
            "needs_background": "light"
          }
        }
      ]
    },
    {
      "cell_type": "code",
      "source": [
        "Income_NoChurn = df[df.Is_Churn==0].Income\n",
        "Income_Churn = df[df.Is_Churn==1].Income\n",
        "\n",
        "plt.xlabel(\"Income\")\n",
        "plt.ylabel(\"Number Of Customers\")\n",
        "plt.title(\"Data Visualization for Customer Churn based on Income of customers\")\n",
        "\n",
        "plt.hist([Income_NoChurn, Income_Churn], rwidth=0.95, color=['darkgreen','maroon'],label=['No Churn','Churn'])\n",
        "plt.legend()"
      ],
      "metadata": {
        "colab": {
          "base_uri": "https://localhost:8080/",
          "height": 402
        },
        "id": "2s6hEz6VsbbL",
        "outputId": "b922eeab-3d9d-4e83-da1b-f5ca2345758e"
      },
      "execution_count": 36,
      "outputs": [
        {
          "output_type": "stream",
          "name": "stderr",
          "text": [
            "/usr/local/lib/python3.7/dist-packages/numpy/core/fromnumeric.py:3208: VisibleDeprecationWarning: Creating an ndarray from ragged nested sequences (which is a list-or-tuple of lists-or-tuples-or ndarrays with different lengths or shapes) is deprecated. If you meant to do this, you must specify 'dtype=object' when creating the ndarray.\n",
            "  return asarray(a).size\n",
            "/usr/local/lib/python3.7/dist-packages/matplotlib/cbook/__init__.py:1376: VisibleDeprecationWarning: Creating an ndarray from ragged nested sequences (which is a list-or-tuple of lists-or-tuples-or ndarrays with different lengths or shapes) is deprecated. If you meant to do this, you must specify 'dtype=object' when creating the ndarray.\n",
            "  X = np.atleast_1d(X.T if isinstance(X, np.ndarray) else np.asarray(X))\n"
          ]
        },
        {
          "output_type": "execute_result",
          "data": {
            "text/plain": [
              "<matplotlib.legend.Legend at 0x7fbeee07d710>"
            ]
          },
          "metadata": {},
          "execution_count": 36
        },
        {
          "output_type": "display_data",
          "data": {
            "text/plain": [
              "<Figure size 432x288 with 1 Axes>"
            ],
            "image/png": "[encoded data removed]"
          },
          "metadata": {
            "needs_background": "light"
          }
        }
      ]
    },
    {
      "cell_type": "code",
      "source": [
        "Credit_Category_NoChurn = df[df.Is_Churn==0].Credit_Category\n",
        "Credit_Category_Churn = df[df.Is_Churn==1].Credit_Category\n",
        "\n",
        "plt.xlabel(\"Credit Category\")\n",
        "plt.ylabel(\"Number Of Customers\")\n",
        "plt.title(\"Data Visualization for Customer Churn based on Credit Category of customers\")\n",
        "\n",
        "plt.hist([Credit_Category_NoChurn, Credit_Category_Churn], rwidth=0.95, color=['darkgreen','maroon'],label=['No Churn','Churn'])\n",
        "plt.legend()"
      ],
      "metadata": {
        "colab": {
          "base_uri": "https://localhost:8080/",
          "height": 402
        },
        "id": "u6LzYh3estvb",
        "outputId": "fdaf7826-3c86-4905-b447-89821d37e742"
      },
      "execution_count": 37,
      "outputs": [
        {
          "output_type": "stream",
          "name": "stderr",
          "text": [
            "/usr/local/lib/python3.7/dist-packages/numpy/core/fromnumeric.py:3208: VisibleDeprecationWarning: Creating an ndarray from ragged nested sequences (which is a list-or-tuple of lists-or-tuples-or ndarrays with different lengths or shapes) is deprecated. If you meant to do this, you must specify 'dtype=object' when creating the ndarray.\n",
            "  return asarray(a).size\n",
            "/usr/local/lib/python3.7/dist-packages/matplotlib/cbook/__init__.py:1376: VisibleDeprecationWarning: Creating an ndarray from ragged nested sequences (which is a list-or-tuple of lists-or-tuples-or ndarrays with different lengths or shapes) is deprecated. If you meant to do this, you must specify 'dtype=object' when creating the ndarray.\n",
            "  X = np.atleast_1d(X.T if isinstance(X, np.ndarray) else np.asarray(X))\n"
          ]
        },
        {
          "output_type": "execute_result",
          "data": {
            "text/plain": [
              "<matplotlib.legend.Legend at 0x7fbeedf4d910>"
            ]
          },
          "metadata": {},
          "execution_count": 37
        },
        {
          "output_type": "display_data",
          "data": {
            "text/plain": [
              "<Figure size 432x288 with 1 Axes>"
            ],
            "image/png": "[encoded data removed]"
          },
          "metadata": {
            "needs_background": "light"
          }
        }
      ]
    },
    {
      "cell_type": "code",
      "source": [
        "Product_Holdings_NoChurn = df[df.Is_Churn==0].Product_Holdings\n",
        "Product_Holdings_Churn = df[df.Is_Churn==1].Product_Holdings\n",
        "\n",
        "plt.xlabel(\"Product Holdings\")\n",
        "plt.ylabel(\"Number Of Customers\")\n",
        "plt.title(\"Data Visualization for Customer Churn based on Product Holdings with the bank\")\n",
        "\n",
        "plt.hist([Product_Holdings_NoChurn, Product_Holdings_Churn], rwidth=0.95, color=['darkgreen','maroon'],label=['No Churn','Churn'])\n",
        "plt.legend()"
      ],
      "metadata": {
        "colab": {
          "base_uri": "https://localhost:8080/",
          "height": 402
        },
        "id": "AaW_sYOUtPR2",
        "outputId": "09d4e8da-6147-4385-dc5b-6536769fb68a"
      },
      "execution_count": 38,
      "outputs": [
        {
          "output_type": "stream",
          "name": "stderr",
          "text": [
            "/usr/local/lib/python3.7/dist-packages/numpy/core/fromnumeric.py:3208: VisibleDeprecationWarning: Creating an ndarray from ragged nested sequences (which is a list-or-tuple of lists-or-tuples-or ndarrays with different lengths or shapes) is deprecated. If you meant to do this, you must specify 'dtype=object' when creating the ndarray.\n",
            "  return asarray(a).size\n",
            "/usr/local/lib/python3.7/dist-packages/matplotlib/cbook/__init__.py:1376: VisibleDeprecationWarning: Creating an ndarray from ragged nested sequences (which is a list-or-tuple of lists-or-tuples-or ndarrays with different lengths or shapes) is deprecated. If you meant to do this, you must specify 'dtype=object' when creating the ndarray.\n",
            "  X = np.atleast_1d(X.T if isinstance(X, np.ndarray) else np.asarray(X))\n"
          ]
        },
        {
          "output_type": "execute_result",
          "data": {
            "text/plain": [
              "<matplotlib.legend.Legend at 0x7fbeedcc80d0>"
            ]
          },
          "metadata": {},
          "execution_count": 38
        },
        {
          "output_type": "display_data",
          "data": {
            "text/plain": [
              "<Figure size 432x288 with 1 Axes>"
            ],
            "image/png": "[encoded data removed]"
          },
          "metadata": {
            "needs_background": "light"
          }
        }
      ]
    },
    {
      "cell_type": "markdown",
      "source": [
        "After plotting the data, below is the step to find the columns of object type, because object type has to be chnaged into the numerical form, inorder to create the model"
      ],
      "metadata": {
        "id": "ZzS0xsBSO2at"
      }
    },
    {
      "cell_type": "code",
      "source": [
        "for column in df:\n",
        "  if df[column].dtypes=='object':\n",
        "     print(f'{column}: {df[column].unique()}') "
      ],
      "metadata": {
        "colab": {
          "base_uri": "https://localhost:8080/"
        },
        "id": "aPYQlzvMvCPw",
        "outputId": "4a47895f-e38f-4417-d0ad-ff078d5a1d3d"
      },
      "execution_count": 40,
      "outputs": [
        {
          "output_type": "stream",
          "name": "stdout",
          "text": [
            "Gender: ['Female' 'Male']\n",
            "Income: ['5L - 10L' 'Less than 5L' 'More than 15L' '10L - 15L']\n",
            "Product_Holdings: ['1' '2' '3+']\n",
            "Credit_Category: ['Average' 'Poor' 'Good']\n"
          ]
        }
      ]
    },
    {
      "cell_type": "code",
      "source": [
        "# One Hot Encoding the columns which are in categorial data is represented as binary vectors\n",
        "# Store the updated dataframe into df_v1\n",
        "def one_hot_encode(df):     \n",
        "    dataf = pd.get_dummies(data=df, columns=['Gender','Income','Product_Holdings','Credit_Category'])\n",
        "    return(dataf)\n",
        "df_v1 = one_hot_encode(df)\n",
        "df_v1.columns"
      ],
      "metadata": {
        "colab": {
          "base_uri": "https://localhost:8080/"
        },
        "id": "tpxpng8twDVP",
        "outputId": "25fbfbc2-51da-4467-fb4c-e657fcd77336"
      },
      "execution_count": 87,
      "outputs": [
        {
          "output_type": "execute_result",
          "data": {
            "text/plain": [
              "Index(['ID', 'Age', 'Balance', 'Vintage', 'Transaction_Status', 'Credit_Card',\n",
              "       'Is_Churn', 'Gender_Female', 'Gender_Male', 'Income_10L - 15L',\n",
              "       'Income_5L - 10L', 'Income_Less than 5L', 'Income_More than 15L',\n",
              "       'Product_Holdings_1', 'Product_Holdings_2', 'Product_Holdings_3+',\n",
              "       'Credit_Category_Average', 'Credit_Category_Good',\n",
              "       'Credit_Category_Poor'],\n",
              "      dtype='object')"
            ]
          },
          "metadata": {},
          "execution_count": 87
        }
      ]
    },
    {
      "cell_type": "code",
      "source": [
        "df_v1.head()"
      ],
      "metadata": {
        "colab": {
          "base_uri": "https://localhost:8080/",
          "height": 287
        },
        "id": "VTfjip72wZNc",
        "outputId": "7ad408c8-0a19-4cfe-820b-34a1a9c3429e"
      },
      "execution_count": 42,
      "outputs": [
        {
          "output_type": "execute_result",
          "data": {
            "text/plain": [
              "   Age     Balance  Vintage  Transaction_Status  Credit_Card  Is_Churn  \\\n",
              "0   36   563266.44        4                   0            0         1   \n",
              "1   53   875572.11        2                   1            1         0   \n",
              "2   35   701607.06        2                   1            0         0   \n",
              "3   43  1393922.16        0                   1            1         1   \n",
              "4   39   893146.23        1                   1            1         1   \n",
              "\n",
              "   Gender_Female  Gender_Male  Income_10L - 15L  Income_5L - 10L  \\\n",
              "0              1            0                 0                1   \n",
              "1              1            0                 0                0   \n",
              "2              1            0                 0                0   \n",
              "3              1            0                 0                0   \n",
              "4              1            0                 0                0   \n",
              "\n",
              "   Income_Less than 5L  Income_More than 15L  Product_Holdings_1  \\\n",
              "0                    0                     0                   1   \n",
              "1                    1                     0                   1   \n",
              "2                    0                     1                   0   \n",
              "3                    0                     1                   0   \n",
              "4                    0                     1                   1   \n",
              "\n",
              "   Product_Holdings_2  Product_Holdings_3+  Credit_Category_Average  \\\n",
              "0                   0                    0                        1   \n",
              "1                   0                    0                        0   \n",
              "2                   1                    0                        0   \n",
              "3                   1                    0                        0   \n",
              "4                   0                    0                        0   \n",
              "\n",
              "   Credit_Category_Good  Credit_Category_Poor  \n",
              "0                     0                     0  \n",
              "1                     0                     1  \n",
              "2                     0                     1  \n",
              "3                     0                     1  \n",
              "4                     1                     0  "
            ],
            "text/html": [
              "\n",
              "  <div id=\"df-c4999c6a-ab81-4b3f-80bc-5c0a393538e1\">\n",
              "    <div class=\"colab-df-container\">\n",
              "      <div>\n",
              "<style scoped>\n",
              "    .dataframe tbody tr th:only-of-type {\n",
              "        vertical-align: middle;\n",
              "    }\n",
              "\n",
              "    .dataframe tbody tr th {\n",
              "        vertical-align: top;\n",
              "    }\n",
              "\n",
              "    .dataframe thead th {\n",
              "        text-align: right;\n",
              "    }\n",
              "</style>\n",
              "<table border=\"1\" class=\"dataframe\">\n",
              "  <thead>\n",
              "    <tr style=\"text-align: right;\">\n",
              "      <th></th>\n",
              "      <th>Age</th>\n",
              "      <th>Balance</th>\n",
              "      <th>Vintage</th>\n",
              "      <th>Transaction_Status</th>\n",
              "      <th>Credit_Card</th>\n",
              "      <th>Is_Churn</th>\n",
              "      <th>Gender_Female</th>\n",
              "      <th>Gender_Male</th>\n",
              "      <th>Income_10L - 15L</th>\n",
              "      <th>Income_5L - 10L</th>\n",
              "      <th>Income_Less than 5L</th>\n",
              "      <th>Income_More than 15L</th>\n",
              "      <th>Product_Holdings_1</th>\n",
              "      <th>Product_Holdings_2</th>\n",
              "      <th>Product_Holdings_3+</th>\n",
              "      <th>Credit_Category_Average</th>\n",
              "      <th>Credit_Category_Good</th>\n",
              "      <th>Credit_Category_Poor</th>\n",
              "    </tr>\n",
              "  </thead>\n",
              "  <tbody>\n",
              "    <tr>\n",
              "      <th>0</th>\n",
              "      <td>36</td>\n",
              "      <td>563266.44</td>\n",
              "      <td>4</td>\n",
              "      <td>0</td>\n",
              "      <td>0</td>\n",
              "      <td>1</td>\n",
              "      <td>1</td>\n",
              "      <td>0</td>\n",
              "      <td>0</td>\n",
              "      <td>1</td>\n",
              "      <td>0</td>\n",
              "      <td>0</td>\n",
              "      <td>1</td>\n",
              "      <td>0</td>\n",
              "      <td>0</td>\n",
              "      <td>1</td>\n",
              "      <td>0</td>\n",
              "      <td>0</td>\n",
              "    </tr>\n",
              "    <tr>\n",
              "      <th>1</th>\n",
              "      <td>53</td>\n",
              "      <td>875572.11</td>\n",
              "      <td>2</td>\n",
              "      <td>1</td>\n",
              "      <td>1</td>\n",
              "      <td>0</td>\n",
              "      <td>1</td>\n",
              "      <td>0</td>\n",
              "      <td>0</td>\n",
              "      <td>0</td>\n",
              "      <td>1</td>\n",
              "      <td>0</td>\n",
              "      <td>1</td>\n",
              "      <td>0</td>\n",
              "      <td>0</td>\n",
              "      <td>0</td>\n",
              "      <td>0</td>\n",
              "      <td>1</td>\n",
              "    </tr>\n",
              "    <tr>\n",
              "      <th>2</th>\n",
              "      <td>35</td>\n",
              "      <td>701607.06</td>\n",
              "      <td>2</td>\n",
              "      <td>1</td>\n",
              "      <td>0</td>\n",
              "      <td>0</td>\n",
              "      <td>1</td>\n",
              "      <td>0</td>\n",
              "      <td>0</td>\n",
              "      <td>0</td>\n",
              "      <td>0</td>\n",
              "      <td>1</td>\n",
              "      <td>0</td>\n",
              "      <td>1</td>\n",
              "      <td>0</td>\n",
              "      <td>0</td>\n",
              "      <td>0</td>\n",
              "      <td>1</td>\n",
              "    </tr>\n",
              "    <tr>\n",
              "      <th>3</th>\n",
              "      <td>43</td>\n",
              "      <td>1393922.16</td>\n",
              "      <td>0</td>\n",
              "      <td>1</td>\n",
              "      <td>1</td>\n",
              "      <td>1</td>\n",
              "      <td>1</td>\n",
              "      <td>0</td>\n",
              "      <td>0</td>\n",
              "      <td>0</td>\n",
              "      <td>0</td>\n",
              "      <td>1</td>\n",
              "      <td>0</td>\n",
              "      <td>1</td>\n",
              "      <td>0</td>\n",
              "      <td>0</td>\n",
              "      <td>0</td>\n",
              "      <td>1</td>\n",
              "    </tr>\n",
              "    <tr>\n",
              "      <th>4</th>\n",
              "      <td>39</td>\n",
              "      <td>893146.23</td>\n",
              "      <td>1</td>\n",
              "      <td>1</td>\n",
              "      <td>1</td>\n",
              "      <td>1</td>\n",
              "      <td>1</td>\n",
              "      <td>0</td>\n",
              "      <td>0</td>\n",
              "      <td>0</td>\n",
              "      <td>0</td>\n",
              "      <td>1</td>\n",
              "      <td>1</td>\n",
              "      <td>0</td>\n",
              "      <td>0</td>\n",
              "      <td>0</td>\n",
              "      <td>1</td>\n",
              "      <td>0</td>\n",
              "    </tr>\n",
              "  </tbody>\n",
              "</table>\n",
              "</div>\n",
              "      <button class=\"colab-df-convert\" onclick=\"convertToInteractive('df-c4999c6a-ab81-4b3f-80bc-5c0a393538e1')\"\n",
              "              title=\"Convert this dataframe to an interactive table.\"\n",
              "              style=\"display:none;\">\n",
              "        \n",
              "  <svg xmlns=\"http://www.w3.org/2000/svg\" height=\"24px\"viewBox=\"0 0 24 24\"\n",
              "       width=\"24px\">\n",
              "    <path d=\"M0 0h24v24H0V0z\" fill=\"none\"/>\n",
              "    <path d=\"M18.56 5.44l.94 2.06.94-2.06 2.06-.94-2.06-.94-.94-2.06-.94 2.06-2.06.94zm-11 1L8.5 8.5l.94-2.06 2.06-.94-2.06-.94L8.5 2.5l-.94 2.06-2.06.94zm10 10l.94 2.06.94-2.06 2.06-.94-2.06-.94-.94-2.06-.94 2.06-2.06.94z\"/><path d=\"M17.41 7.96l-1.37-1.37c-.4-.4-.92-.59-1.43-.59-.52 0-1.04.2-1.43.59L10.3 9.45l-7.72 7.72c-.78.78-.78 2.05 0 2.83L4 21.41c.39.39.9.59 1.41.59.51 0 1.02-.2 1.41-.59l7.78-7.78 2.81-2.81c.8-.78.8-2.07 0-2.86zM5.41 20L4 18.59l7.72-7.72 1.47 1.35L5.41 20z\"/>\n",
              "  </svg>\n",
              "      </button>\n",
              "      \n",
              "  <style>\n",
              "    .colab-df-container {\n",
              "      display:flex;\n",
              "      flex-wrap:wrap;\n",
              "      gap: 12px;\n",
              "    }\n",
              "\n",
              "    .colab-df-convert {\n",
              "      background-color: #E8F0FE;\n",
              "      border: none;\n",
              "      border-radius: 50%;\n",
              "      cursor: pointer;\n",
              "      display: none;\n",
              "      fill: #1967D2;\n",
              "      height: 32px;\n",
              "      padding: 0 0 0 0;\n",
              "      width: 32px;\n",
              "    }\n",
              "\n",
              "    .colab-df-convert:hover {\n",
              "      background-color: #E2EBFA;\n",
              "      box-shadow: 0px 1px 2px rgba(60, 64, 67, 0.3), 0px 1px 3px 1px rgba(60, 64, 67, 0.15);\n",
              "      fill: #174EA6;\n",
              "    }\n",
              "\n",
              "    [theme=dark] .colab-df-convert {\n",
              "      background-color: #3B4455;\n",
              "      fill: #D2E3FC;\n",
              "    }\n",
              "\n",
              "    [theme=dark] .colab-df-convert:hover {\n",
              "      background-color: #434B5C;\n",
              "      box-shadow: 0px 1px 3px 1px rgba(0, 0, 0, 0.15);\n",
              "      filter: drop-shadow(0px 1px 2px rgba(0, 0, 0, 0.3));\n",
              "      fill: #FFFFFF;\n",
              "    }\n",
              "  </style>\n",
              "\n",
              "      <script>\n",
              "        const buttonEl =\n",
              "          document.querySelector('#df-c4999c6a-ab81-4b3f-80bc-5c0a393538e1 button.colab-df-convert');\n",
              "        buttonEl.style.display =\n",
              "          google.colab.kernel.accessAllowed ? 'block' : 'none';\n",
              "\n",
              "        async function convertToInteractive(key) {\n",
              "          const element = document.querySelector('#df-c4999c6a-ab81-4b3f-80bc-5c0a393538e1');\n",
              "          const dataTable =\n",
              "            await google.colab.kernel.invokeFunction('convertToInteractive',\n",
              "                                                     [key], {});\n",
              "          if (!dataTable) return;\n",
              "\n",
              "          const docLinkHtml = 'Like what you see? Visit the ' +\n",
              "            '<a target=\"_blank\" href=https://colab.research.google.com/notebooks/data_table.ipynb>data table notebook</a>'\n",
              "            + ' to learn more about interactive tables.';\n",
              "          element.innerHTML = '';\n",
              "          dataTable['output_type'] = 'display_data';\n",
              "          await google.colab.output.renderOutput(dataTable, element);\n",
              "          const docLink = document.createElement('div');\n",
              "          docLink.innerHTML = docLinkHtml;\n",
              "          element.appendChild(docLink);\n",
              "        }\n",
              "      </script>\n",
              "    </div>\n",
              "  </div>\n",
              "  "
            ]
          },
          "metadata": {},
          "execution_count": 42
        }
      ]
    },
    {
      "cell_type": "code",
      "source": [
        "# the data frame contains few columns which have data outside the range from 0 to 1, \n",
        "# therefore it is needed to scale that data in the range of 0 to 1\n",
        "def cols_to_scale(df):\n",
        "    cols_to_scale = ['Age','Balance','Vintage']\n",
        "\n",
        "    from sklearn.preprocessing import MinMaxScaler\n",
        "    scaler = MinMaxScaler()\n",
        "    df[cols_to_scale] = scaler.fit_transform(df[cols_to_scale])\n",
        "    return(df)\n",
        "cols_to_scale(df_v1)"
      ],
      "metadata": {
        "colab": {
          "base_uri": "https://localhost:8080/",
          "height": 505
        },
        "id": "bQ217v2s84Up",
        "outputId": "097a9466-1a35-4504-afa1-2d4a35821e0c"
      },
      "execution_count": 71,
      "outputs": [
        {
          "output_type": "execute_result",
          "data": {
            "text/plain": [
              "           Age   Balance  Vintage  Transaction_Status  Credit_Card  Is_Churn  \\\n",
              "0     0.294118  0.231148      0.8                   0            0         1   \n",
              "1     0.627451  0.359323      0.4                   1            1         0   \n",
              "2     0.274510  0.287925      0.4                   1            0         0   \n",
              "3     0.431373  0.572062      0.0                   1            1         1   \n",
              "4     0.352941  0.366536      0.2                   1            1         1   \n",
              "...        ...       ...      ...                 ...          ...       ...   \n",
              "6645  0.784314  0.555893      0.8                   1            1         1   \n",
              "6646  0.411765  0.244700      0.6                   1            1         0   \n",
              "6647  0.156863  0.401894      0.4                   0            0         0   \n",
              "6648  0.882353  0.162184      0.6                   0            1         1   \n",
              "6649  0.313725  0.339366      0.2                   1            0         0   \n",
              "\n",
              "      Gender_Female  Gender_Male  Income_10L - 15L  Income_5L - 10L  \\\n",
              "0                 1            0                 0                1   \n",
              "1                 1            0                 0                0   \n",
              "2                 1            0                 0                0   \n",
              "3                 1            0                 0                0   \n",
              "4                 1            0                 0                0   \n",
              "...             ...          ...               ...              ...   \n",
              "6645              0            1                 0                1   \n",
              "6646              1            0                 0                1   \n",
              "6647              0            1                 0                0   \n",
              "6648              1            0                 1                0   \n",
              "6649              0            1                 0                0   \n",
              "\n",
              "      Income_Less than 5L  Income_More than 15L  Product_Holdings_1  \\\n",
              "0                       0                     0                   1   \n",
              "1                       1                     0                   1   \n",
              "2                       0                     1                   0   \n",
              "3                       0                     1                   0   \n",
              "4                       0                     1                   1   \n",
              "...                   ...                   ...                 ...   \n",
              "6645                    0                     0                   0   \n",
              "6646                    0                     0                   0   \n",
              "6647                    1                     0                   0   \n",
              "6648                    0                     0                   0   \n",
              "6649                    0                     1                   0   \n",
              "\n",
              "      Product_Holdings_2  Product_Holdings_3+  Credit_Category_Average  \\\n",
              "0                      0                    0                        1   \n",
              "1                      0                    0                        0   \n",
              "2                      1                    0                        0   \n",
              "3                      1                    0                        0   \n",
              "4                      0                    0                        0   \n",
              "...                  ...                  ...                      ...   \n",
              "6645                   1                    0                        0   \n",
              "6646                   1                    0                        1   \n",
              "6647                   1                    0                        0   \n",
              "6648                   1                    0                        0   \n",
              "6649                   1                    0                        0   \n",
              "\n",
              "      Credit_Category_Good  Credit_Category_Poor  \n",
              "0                        0                     0  \n",
              "1                        0                     1  \n",
              "2                        0                     1  \n",
              "3                        0                     1  \n",
              "4                        1                     0  \n",
              "...                    ...                   ...  \n",
              "6645                     0                     1  \n",
              "6646                     0                     0  \n",
              "6647                     0                     1  \n",
              "6648                     0                     1  \n",
              "6649                     1                     0  \n",
              "\n",
              "[6650 rows x 18 columns]"
            ],
            "text/html": [
              "\n",
              "  <div id=\"df-bcc6f335-5c8e-42d7-b8c3-90802857bb39\">\n",
              "    <div class=\"colab-df-container\">\n",
              "      <div>\n",
              "<style scoped>\n",
              "    .dataframe tbody tr th:only-of-type {\n",
              "        vertical-align: middle;\n",
              "    }\n",
              "\n",
              "    .dataframe tbody tr th {\n",
              "        vertical-align: top;\n",
              "    }\n",
              "\n",
              "    .dataframe thead th {\n",
              "        text-align: right;\n",
              "    }\n",
              "</style>\n",
              "<table border=\"1\" class=\"dataframe\">\n",
              "  <thead>\n",
              "    <tr style=\"text-align: right;\">\n",
              "      <th></th>\n",
              "      <th>Age</th>\n",
              "      <th>Balance</th>\n",
              "      <th>Vintage</th>\n",
              "      <th>Transaction_Status</th>\n",
              "      <th>Credit_Card</th>\n",
              "      <th>Is_Churn</th>\n",
              "      <th>Gender_Female</th>\n",
              "      <th>Gender_Male</th>\n",
              "      <th>Income_10L - 15L</th>\n",
              "      <th>Income_5L - 10L</th>\n",
              "      <th>Income_Less than 5L</th>\n",
              "      <th>Income_More than 15L</th>\n",
              "      <th>Product_Holdings_1</th>\n",
              "      <th>Product_Holdings_2</th>\n",
              "      <th>Product_Holdings_3+</th>\n",
              "      <th>Credit_Category_Average</th>\n",
              "      <th>Credit_Category_Good</th>\n",
              "      <th>Credit_Category_Poor</th>\n",
              "    </tr>\n",
              "  </thead>\n",
              "  <tbody>\n",
              "    <tr>\n",
              "      <th>0</th>\n",
              "      <td>0.294118</td>\n",
              "      <td>0.231148</td>\n",
              "      <td>0.8</td>\n",
              "      <td>0</td>\n",
              "      <td>0</td>\n",
              "      <td>1</td>\n",
              "      <td>1</td>\n",
              "      <td>0</td>\n",
              "      <td>0</td>\n",
              "      <td>1</td>\n",
              "      <td>0</td>\n",
              "      <td>0</td>\n",
              "      <td>1</td>\n",
              "      <td>0</td>\n",
              "      <td>0</td>\n",
              "      <td>1</td>\n",
              "      <td>0</td>\n",
              "      <td>0</td>\n",
              "    </tr>\n",
              "    <tr>\n",
              "      <th>1</th>\n",
              "      <td>0.627451</td>\n",
              "      <td>0.359323</td>\n",
              "      <td>0.4</td>\n",
              "      <td>1</td>\n",
              "      <td>1</td>\n",
              "      <td>0</td>\n",
              "      <td>1</td>\n",
              "      <td>0</td>\n",
              "      <td>0</td>\n",
              "      <td>0</td>\n",
              "      <td>1</td>\n",
              "      <td>0</td>\n",
              "      <td>1</td>\n",
              "      <td>0</td>\n",
              "      <td>0</td>\n",
              "      <td>0</td>\n",
              "      <td>0</td>\n",
              "      <td>1</td>\n",
              "    </tr>\n",
              "    <tr>\n",
              "      <th>2</th>\n",
              "      <td>0.274510</td>\n",
              "      <td>0.287925</td>\n",
              "      <td>0.4</td>\n",
              "      <td>1</td>\n",
              "      <td>0</td>\n",
              "      <td>0</td>\n",
              "      <td>1</td>\n",
              "      <td>0</td>\n",
              "      <td>0</td>\n",
              "      <td>0</td>\n",
              "      <td>0</td>\n",
              "      <td>1</td>\n",
              "      <td>0</td>\n",
              "      <td>1</td>\n",
              "      <td>0</td>\n",
              "      <td>0</td>\n",
              "      <td>0</td>\n",
              "      <td>1</td>\n",
              "    </tr>\n",
              "    <tr>\n",
              "      <th>3</th>\n",
              "      <td>0.431373</td>\n",
              "      <td>0.572062</td>\n",
              "      <td>0.0</td>\n",
              "      <td>1</td>\n",
              "      <td>1</td>\n",
              "      <td>1</td>\n",
              "      <td>1</td>\n",
              "      <td>0</td>\n",
              "      <td>0</td>\n",
              "      <td>0</td>\n",
              "      <td>0</td>\n",
              "      <td>1</td>\n",
              "      <td>0</td>\n",
              "      <td>1</td>\n",
              "      <td>0</td>\n",
              "      <td>0</td>\n",
              "      <td>0</td>\n",
              "      <td>1</td>\n",
              "    </tr>\n",
              "    <tr>\n",
              "      <th>4</th>\n",
              "      <td>0.352941</td>\n",
              "      <td>0.366536</td>\n",
              "      <td>0.2</td>\n",
              "      <td>1</td>\n",
              "      <td>1</td>\n",
              "      <td>1</td>\n",
              "      <td>1</td>\n",
              "      <td>0</td>\n",
              "      <td>0</td>\n",
              "      <td>0</td>\n",
              "      <td>0</td>\n",
              "      <td>1</td>\n",
              "      <td>1</td>\n",
              "      <td>0</td>\n",
              "      <td>0</td>\n",
              "      <td>0</td>\n",
              "      <td>1</td>\n",
              "      <td>0</td>\n",
              "    </tr>\n",
              "    <tr>\n",
              "      <th>...</th>\n",
              "      <td>...</td>\n",
              "      <td>...</td>\n",
              "      <td>...</td>\n",
              "      <td>...</td>\n",
              "      <td>...</td>\n",
              "      <td>...</td>\n",
              "      <td>...</td>\n",
              "      <td>...</td>\n",
              "      <td>...</td>\n",
              "      <td>...</td>\n",
              "      <td>...</td>\n",
              "      <td>...</td>\n",
              "      <td>...</td>\n",
              "      <td>...</td>\n",
              "      <td>...</td>\n",
              "      <td>...</td>\n",
              "      <td>...</td>\n",
              "      <td>...</td>\n",
              "    </tr>\n",
              "    <tr>\n",
              "      <th>6645</th>\n",
              "      <td>0.784314</td>\n",
              "      <td>0.555893</td>\n",
              "      <td>0.8</td>\n",
              "      <td>1</td>\n",
              "      <td>1</td>\n",
              "      <td>1</td>\n",
              "      <td>0</td>\n",
              "      <td>1</td>\n",
              "      <td>0</td>\n",
              "      <td>1</td>\n",
              "      <td>0</td>\n",
              "      <td>0</td>\n",
              "      <td>0</td>\n",
              "      <td>1</td>\n",
              "      <td>0</td>\n",
              "      <td>0</td>\n",
              "      <td>0</td>\n",
              "      <td>1</td>\n",
              "    </tr>\n",
              "    <tr>\n",
              "      <th>6646</th>\n",
              "      <td>0.411765</td>\n",
              "      <td>0.244700</td>\n",
              "      <td>0.6</td>\n",
              "      <td>1</td>\n",
              "      <td>1</td>\n",
              "      <td>0</td>\n",
              "      <td>1</td>\n",
              "      <td>0</td>\n",
              "      <td>0</td>\n",
              "      <td>1</td>\n",
              "      <td>0</td>\n",
              "      <td>0</td>\n",
              "      <td>0</td>\n",
              "      <td>1</td>\n",
              "      <td>0</td>\n",
              "      <td>1</td>\n",
              "      <td>0</td>\n",
              "      <td>0</td>\n",
              "    </tr>\n",
              "    <tr>\n",
              "      <th>6647</th>\n",
              "      <td>0.156863</td>\n",
              "      <td>0.401894</td>\n",
              "      <td>0.4</td>\n",
              "      <td>0</td>\n",
              "      <td>0</td>\n",
              "      <td>0</td>\n",
              "      <td>0</td>\n",
              "      <td>1</td>\n",
              "      <td>0</td>\n",
              "      <td>0</td>\n",
              "      <td>1</td>\n",
              "      <td>0</td>\n",
              "      <td>0</td>\n",
              "      <td>1</td>\n",
              "      <td>0</td>\n",
              "      <td>0</td>\n",
              "      <td>0</td>\n",
              "      <td>1</td>\n",
              "    </tr>\n",
              "    <tr>\n",
              "      <th>6648</th>\n",
              "      <td>0.882353</td>\n",
              "      <td>0.162184</td>\n",
              "      <td>0.6</td>\n",
              "      <td>0</td>\n",
              "      <td>1</td>\n",
              "      <td>1</td>\n",
              "      <td>1</td>\n",
              "      <td>0</td>\n",
              "      <td>1</td>\n",
              "      <td>0</td>\n",
              "      <td>0</td>\n",
              "      <td>0</td>\n",
              "      <td>0</td>\n",
              "      <td>1</td>\n",
              "      <td>0</td>\n",
              "      <td>0</td>\n",
              "      <td>0</td>\n",
              "      <td>1</td>\n",
              "    </tr>\n",
              "    <tr>\n",
              "      <th>6649</th>\n",
              "      <td>0.313725</td>\n",
              "      <td>0.339366</td>\n",
              "      <td>0.2</td>\n",
              "      <td>1</td>\n",
              "      <td>0</td>\n",
              "      <td>0</td>\n",
              "      <td>0</td>\n",
              "      <td>1</td>\n",
              "      <td>0</td>\n",
              "      <td>0</td>\n",
              "      <td>0</td>\n",
              "      <td>1</td>\n",
              "      <td>0</td>\n",
              "      <td>1</td>\n",
              "      <td>0</td>\n",
              "      <td>0</td>\n",
              "      <td>1</td>\n",
              "      <td>0</td>\n",
              "    </tr>\n",
              "  </tbody>\n",
              "</table>\n",
              "<p>6650 rows × 18 columns</p>\n",
              "</div>\n",
              "      <button class=\"colab-df-convert\" onclick=\"convertToInteractive('df-bcc6f335-5c8e-42d7-b8c3-90802857bb39')\"\n",
              "              title=\"Convert this dataframe to an interactive table.\"\n",
              "              style=\"display:none;\">\n",
              "        \n",
              "  <svg xmlns=\"http://www.w3.org/2000/svg\" height=\"24px\"viewBox=\"0 0 24 24\"\n",
              "       width=\"24px\">\n",
              "    <path d=\"M0 0h24v24H0V0z\" fill=\"none\"/>\n",
              "    <path d=\"M18.56 5.44l.94 2.06.94-2.06 2.06-.94-2.06-.94-.94-2.06-.94 2.06-2.06.94zm-11 1L8.5 8.5l.94-2.06 2.06-.94-2.06-.94L8.5 2.5l-.94 2.06-2.06.94zm10 10l.94 2.06.94-2.06 2.06-.94-2.06-.94-.94-2.06-.94 2.06-2.06.94z\"/><path d=\"M17.41 7.96l-1.37-1.37c-.4-.4-.92-.59-1.43-.59-.52 0-1.04.2-1.43.59L10.3 9.45l-7.72 7.72c-.78.78-.78 2.05 0 2.83L4 21.41c.39.39.9.59 1.41.59.51 0 1.02-.2 1.41-.59l7.78-7.78 2.81-2.81c.8-.78.8-2.07 0-2.86zM5.41 20L4 18.59l7.72-7.72 1.47 1.35L5.41 20z\"/>\n",
              "  </svg>\n",
              "      </button>\n",
              "      \n",
              "  <style>\n",
              "    .colab-df-container {\n",
              "      display:flex;\n",
              "      flex-wrap:wrap;\n",
              "      gap: 12px;\n",
              "    }\n",
              "\n",
              "    .colab-df-convert {\n",
              "      background-color: #E8F0FE;\n",
              "      border: none;\n",
              "      border-radius: 50%;\n",
              "      cursor: pointer;\n",
              "      display: none;\n",
              "      fill: #1967D2;\n",
              "      height: 32px;\n",
              "      padding: 0 0 0 0;\n",
              "      width: 32px;\n",
              "    }\n",
              "\n",
              "    .colab-df-convert:hover {\n",
              "      background-color: #E2EBFA;\n",
              "      box-shadow: 0px 1px 2px rgba(60, 64, 67, 0.3), 0px 1px 3px 1px rgba(60, 64, 67, 0.15);\n",
              "      fill: #174EA6;\n",
              "    }\n",
              "\n",
              "    [theme=dark] .colab-df-convert {\n",
              "      background-color: #3B4455;\n",
              "      fill: #D2E3FC;\n",
              "    }\n",
              "\n",
              "    [theme=dark] .colab-df-convert:hover {\n",
              "      background-color: #434B5C;\n",
              "      box-shadow: 0px 1px 3px 1px rgba(0, 0, 0, 0.15);\n",
              "      filter: drop-shadow(0px 1px 2px rgba(0, 0, 0, 0.3));\n",
              "      fill: #FFFFFF;\n",
              "    }\n",
              "  </style>\n",
              "\n",
              "      <script>\n",
              "        const buttonEl =\n",
              "          document.querySelector('#df-bcc6f335-5c8e-42d7-b8c3-90802857bb39 button.colab-df-convert');\n",
              "        buttonEl.style.display =\n",
              "          google.colab.kernel.accessAllowed ? 'block' : 'none';\n",
              "\n",
              "        async function convertToInteractive(key) {\n",
              "          const element = document.querySelector('#df-bcc6f335-5c8e-42d7-b8c3-90802857bb39');\n",
              "          const dataTable =\n",
              "            await google.colab.kernel.invokeFunction('convertToInteractive',\n",
              "                                                     [key], {});\n",
              "          if (!dataTable) return;\n",
              "\n",
              "          const docLinkHtml = 'Like what you see? Visit the ' +\n",
              "            '<a target=\"_blank\" href=https://colab.research.google.com/notebooks/data_table.ipynb>data table notebook</a>'\n",
              "            + ' to learn more about interactive tables.';\n",
              "          element.innerHTML = '';\n",
              "          dataTable['output_type'] = 'display_data';\n",
              "          await google.colab.output.renderOutput(dataTable, element);\n",
              "          const docLink = document.createElement('div');\n",
              "          docLink.innerHTML = docLinkHtml;\n",
              "          element.appendChild(docLink);\n",
              "        }\n",
              "      </script>\n",
              "    </div>\n",
              "  </div>\n",
              "  "
            ]
          },
          "metadata": {},
          "execution_count": 71
        }
      ]
    },
    {
      "cell_type": "code",
      "source": [
        "# confirm if the data looks is preprocessed\n",
        "for column in df_v1:\n",
        "     print(f'{column}: {df_v1[column].unique()}')"
      ],
      "metadata": {
        "colab": {
          "base_uri": "https://localhost:8080/"
        },
        "id": "ht3lAAYC94KJ",
        "outputId": "c070a431-2017-4165-8fad-3ed2ffba00f5"
      },
      "execution_count": 88,
      "outputs": [
        {
          "output_type": "stream",
          "name": "stdout",
          "text": [
            "ID: ['84e2fcc9' '57fea15e' '8df34ef3' ... 'd4075a95' '5855b142' '57b39511']\n",
            "Age: [36 53 35 43 39 31 56 41 60 32 40 33 37 47 28 30 45 66 62 34 42 38 52 54\n",
            " 27 68 58 59 25 26 48 29 44 67 49 63 55 46 65 57 23 50 51 71 69 61 64 24\n",
            " 22 70 72 21]\n",
            "Balance: [563266.44 875572.11 701607.06 ... 979298.19 395233.65 826947.27]\n",
            "Vintage: [4 2 0 1 3 5]\n",
            "Transaction_Status: [0 1]\n",
            "Credit_Card: [0 1]\n",
            "Is_Churn: [1 0]\n",
            "Gender_Female: [1 0]\n",
            "Gender_Male: [0 1]\n",
            "Income_10L - 15L: [0 1]\n",
            "Income_5L - 10L: [1 0]\n",
            "Income_Less than 5L: [0 1]\n",
            "Income_More than 15L: [0 1]\n",
            "Product_Holdings_1: [1 0]\n",
            "Product_Holdings_2: [0 1]\n",
            "Product_Holdings_3+: [0 1]\n",
            "Credit_Category_Average: [1 0]\n",
            "Credit_Category_Good: [0 1]\n",
            "Credit_Category_Poor: [0 1]\n"
          ]
        }
      ]
    },
    {
      "cell_type": "markdown",
      "source": [
        "The Test and Train Split"
      ],
      "metadata": {
        "id": "PtApAjHFQzei"
      }
    },
    {
      "cell_type": "code",
      "source": [
        "X = df_v1.drop('Is_Churn',axis='columns')\n",
        "y = df_v1['Is_Churn']\n",
        "\n",
        "from sklearn.model_selection import train_test_split\n",
        "X_train, X_test, y_train, y_test = train_test_split(X,y,test_size=0.2,random_state=5)"
      ],
      "metadata": {
        "id": "Xr7WPW2S0lYm"
      },
      "execution_count": 47,
      "outputs": []
    },
    {
      "cell_type": "markdown",
      "source": [
        "Import the python libraries used for creating an Artificial Neural Network and train it"
      ],
      "metadata": {
        "id": "XZAAywz_Q4uL"
      }
    },
    {
      "cell_type": "code",
      "source": [
        "import tensorflow as tf\n",
        "from tensorflow import keras\n",
        "\n",
        "\n",
        "model = keras.Sequential([\n",
        "    keras.layers.Dense(17, input_shape=(17,), activation='relu'),\n",
        "    keras.layers.Dense(15, activation='relu'),\n",
        "    keras.layers.Dense(1, activation='sigmoid')\n",
        "])\n",
        "\n",
        "model.compile(optimizer='adam',\n",
        "              loss='binary_crossentropy',\n",
        "              metrics=['accuracy'])\n",
        "\n",
        "model.fit(X_train, y_train, epochs=100)"
      ],
      "metadata": {
        "colab": {
          "base_uri": "https://localhost:8080/"
        },
        "id": "00HAipFH0yj3",
        "outputId": "e6814199-3482-489d-d69c-70ccfb534697"
      },
      "execution_count": 48,
      "outputs": [
        {
          "output_type": "stream",
          "name": "stdout",
          "text": [
            "Epoch 1/100\n",
            "167/167 [==============================] - 1s 2ms/step - loss: 0.5531 - accuracy: 0.7699\n",
            "Epoch 2/100\n",
            "167/167 [==============================] - 0s 2ms/step - loss: 0.5339 - accuracy: 0.7724\n",
            "Epoch 3/100\n",
            "167/167 [==============================] - 0s 2ms/step - loss: 0.5258 - accuracy: 0.7724\n",
            "Epoch 4/100\n",
            "167/167 [==============================] - 0s 2ms/step - loss: 0.5206 - accuracy: 0.7722\n",
            "Epoch 5/100\n",
            "167/167 [==============================] - 0s 2ms/step - loss: 0.5159 - accuracy: 0.7729\n",
            "Epoch 6/100\n",
            "167/167 [==============================] - 0s 2ms/step - loss: 0.5125 - accuracy: 0.7731\n",
            "Epoch 7/100\n",
            "167/167 [==============================] - 0s 2ms/step - loss: 0.5103 - accuracy: 0.7737\n",
            "Epoch 8/100\n",
            "167/167 [==============================] - 0s 2ms/step - loss: 0.5094 - accuracy: 0.7744\n",
            "Epoch 9/100\n",
            "167/167 [==============================] - 0s 2ms/step - loss: 0.5082 - accuracy: 0.7720\n",
            "Epoch 10/100\n",
            "167/167 [==============================] - 0s 2ms/step - loss: 0.5069 - accuracy: 0.7729\n",
            "Epoch 11/100\n",
            "167/167 [==============================] - 0s 2ms/step - loss: 0.5062 - accuracy: 0.7733\n",
            "Epoch 12/100\n",
            "167/167 [==============================] - 0s 2ms/step - loss: 0.5061 - accuracy: 0.7724\n",
            "Epoch 13/100\n",
            "167/167 [==============================] - 0s 2ms/step - loss: 0.5044 - accuracy: 0.7741\n",
            "Epoch 14/100\n",
            "167/167 [==============================] - 0s 2ms/step - loss: 0.5044 - accuracy: 0.7742\n",
            "Epoch 15/100\n",
            "167/167 [==============================] - 0s 2ms/step - loss: 0.5037 - accuracy: 0.7729\n",
            "Epoch 16/100\n",
            "167/167 [==============================] - 0s 2ms/step - loss: 0.5033 - accuracy: 0.7735\n",
            "Epoch 17/100\n",
            "167/167 [==============================] - 0s 2ms/step - loss: 0.5029 - accuracy: 0.7744\n",
            "Epoch 18/100\n",
            "167/167 [==============================] - 0s 2ms/step - loss: 0.5033 - accuracy: 0.7739\n",
            "Epoch 19/100\n",
            "167/167 [==============================] - 0s 2ms/step - loss: 0.5017 - accuracy: 0.7727\n",
            "Epoch 20/100\n",
            "167/167 [==============================] - 0s 2ms/step - loss: 0.5022 - accuracy: 0.7737\n",
            "Epoch 21/100\n",
            "167/167 [==============================] - 0s 2ms/step - loss: 0.5022 - accuracy: 0.7761\n",
            "Epoch 22/100\n",
            "167/167 [==============================] - 0s 2ms/step - loss: 0.5007 - accuracy: 0.7744\n",
            "Epoch 23/100\n",
            "167/167 [==============================] - 0s 2ms/step - loss: 0.5009 - accuracy: 0.7754\n",
            "Epoch 24/100\n",
            "167/167 [==============================] - 0s 2ms/step - loss: 0.5008 - accuracy: 0.7754\n",
            "Epoch 25/100\n",
            "167/167 [==============================] - 0s 2ms/step - loss: 0.5003 - accuracy: 0.7784\n",
            "Epoch 26/100\n",
            "167/167 [==============================] - 0s 2ms/step - loss: 0.4990 - accuracy: 0.7748\n",
            "Epoch 27/100\n",
            "167/167 [==============================] - 0s 2ms/step - loss: 0.4997 - accuracy: 0.7748\n",
            "Epoch 28/100\n",
            "167/167 [==============================] - 0s 2ms/step - loss: 0.4984 - accuracy: 0.7759\n",
            "Epoch 29/100\n",
            "167/167 [==============================] - 0s 2ms/step - loss: 0.4984 - accuracy: 0.7746\n",
            "Epoch 30/100\n",
            "167/167 [==============================] - 0s 2ms/step - loss: 0.4976 - accuracy: 0.7767\n",
            "Epoch 31/100\n",
            "167/167 [==============================] - 0s 2ms/step - loss: 0.4983 - accuracy: 0.7761\n",
            "Epoch 32/100\n",
            "167/167 [==============================] - 0s 2ms/step - loss: 0.4975 - accuracy: 0.7774\n",
            "Epoch 33/100\n",
            "167/167 [==============================] - 0s 2ms/step - loss: 0.4966 - accuracy: 0.7758\n",
            "Epoch 34/100\n",
            "167/167 [==============================] - 0s 2ms/step - loss: 0.4962 - accuracy: 0.7765\n",
            "Epoch 35/100\n",
            "167/167 [==============================] - 0s 2ms/step - loss: 0.4971 - accuracy: 0.7759\n",
            "Epoch 36/100\n",
            "167/167 [==============================] - 0s 2ms/step - loss: 0.4968 - accuracy: 0.7778\n",
            "Epoch 37/100\n",
            "167/167 [==============================] - 0s 2ms/step - loss: 0.4967 - accuracy: 0.7754\n",
            "Epoch 38/100\n",
            "167/167 [==============================] - 0s 2ms/step - loss: 0.4948 - accuracy: 0.7767\n",
            "Epoch 39/100\n",
            "167/167 [==============================] - 0s 2ms/step - loss: 0.4951 - accuracy: 0.7756\n",
            "Epoch 40/100\n",
            "167/167 [==============================] - 0s 2ms/step - loss: 0.4955 - accuracy: 0.7765\n",
            "Epoch 41/100\n",
            "167/167 [==============================] - 0s 2ms/step - loss: 0.4936 - accuracy: 0.7763\n",
            "Epoch 42/100\n",
            "167/167 [==============================] - 0s 2ms/step - loss: 0.4946 - accuracy: 0.7784\n",
            "Epoch 43/100\n",
            "167/167 [==============================] - 0s 2ms/step - loss: 0.4930 - accuracy: 0.7759\n",
            "Epoch 44/100\n",
            "167/167 [==============================] - 0s 2ms/step - loss: 0.4937 - accuracy: 0.7780\n",
            "Epoch 45/100\n",
            "167/167 [==============================] - 0s 2ms/step - loss: 0.4940 - accuracy: 0.7773\n",
            "Epoch 46/100\n",
            "167/167 [==============================] - 0s 2ms/step - loss: 0.4928 - accuracy: 0.7780\n",
            "Epoch 47/100\n",
            "167/167 [==============================] - 0s 2ms/step - loss: 0.4920 - accuracy: 0.7769\n",
            "Epoch 48/100\n",
            "167/167 [==============================] - 0s 2ms/step - loss: 0.4920 - accuracy: 0.7776\n",
            "Epoch 49/100\n",
            "167/167 [==============================] - 0s 2ms/step - loss: 0.4915 - accuracy: 0.7788\n",
            "Epoch 50/100\n",
            "167/167 [==============================] - 0s 2ms/step - loss: 0.4910 - accuracy: 0.7774\n",
            "Epoch 51/100\n",
            "167/167 [==============================] - 0s 2ms/step - loss: 0.4913 - accuracy: 0.7767\n",
            "Epoch 52/100\n",
            "167/167 [==============================] - 0s 2ms/step - loss: 0.4901 - accuracy: 0.7778\n",
            "Epoch 53/100\n",
            "167/167 [==============================] - 0s 2ms/step - loss: 0.4900 - accuracy: 0.7782\n",
            "Epoch 54/100\n",
            "167/167 [==============================] - 0s 2ms/step - loss: 0.4898 - accuracy: 0.7784\n",
            "Epoch 55/100\n",
            "167/167 [==============================] - 0s 2ms/step - loss: 0.4894 - accuracy: 0.7801\n",
            "Epoch 56/100\n",
            "167/167 [==============================] - 0s 2ms/step - loss: 0.4895 - accuracy: 0.7782\n",
            "Epoch 57/100\n",
            "167/167 [==============================] - 0s 2ms/step - loss: 0.4888 - accuracy: 0.7789\n",
            "Epoch 58/100\n",
            "167/167 [==============================] - 0s 2ms/step - loss: 0.4891 - accuracy: 0.7786\n",
            "Epoch 59/100\n",
            "167/167 [==============================] - 0s 2ms/step - loss: 0.4879 - accuracy: 0.7784\n",
            "Epoch 60/100\n",
            "167/167 [==============================] - 0s 2ms/step - loss: 0.4879 - accuracy: 0.7778\n",
            "Epoch 61/100\n",
            "167/167 [==============================] - 0s 2ms/step - loss: 0.4877 - accuracy: 0.7795\n",
            "Epoch 62/100\n",
            "167/167 [==============================] - 0s 2ms/step - loss: 0.4880 - accuracy: 0.7782\n",
            "Epoch 63/100\n",
            "167/167 [==============================] - 0s 2ms/step - loss: 0.4887 - accuracy: 0.7803\n",
            "Epoch 64/100\n",
            "167/167 [==============================] - 0s 2ms/step - loss: 0.4868 - accuracy: 0.7763\n",
            "Epoch 65/100\n",
            "167/167 [==============================] - 0s 2ms/step - loss: 0.4874 - accuracy: 0.7797\n",
            "Epoch 66/100\n",
            "167/167 [==============================] - 0s 2ms/step - loss: 0.4871 - accuracy: 0.7771\n",
            "Epoch 67/100\n",
            "167/167 [==============================] - 0s 2ms/step - loss: 0.4866 - accuracy: 0.7806\n",
            "Epoch 68/100\n",
            "167/167 [==============================] - 0s 2ms/step - loss: 0.4853 - accuracy: 0.7827\n",
            "Epoch 69/100\n",
            "167/167 [==============================] - 0s 2ms/step - loss: 0.4854 - accuracy: 0.7838\n",
            "Epoch 70/100\n",
            "167/167 [==============================] - 0s 2ms/step - loss: 0.4859 - accuracy: 0.7812\n",
            "Epoch 71/100\n",
            "167/167 [==============================] - 0s 2ms/step - loss: 0.4847 - accuracy: 0.7786\n",
            "Epoch 72/100\n",
            "167/167 [==============================] - 0s 2ms/step - loss: 0.4856 - accuracy: 0.7803\n",
            "Epoch 73/100\n",
            "167/167 [==============================] - 0s 2ms/step - loss: 0.4849 - accuracy: 0.7812\n",
            "Epoch 74/100\n",
            "167/167 [==============================] - 0s 2ms/step - loss: 0.4849 - accuracy: 0.7814\n",
            "Epoch 75/100\n",
            "167/167 [==============================] - 0s 2ms/step - loss: 0.4841 - accuracy: 0.7812\n",
            "Epoch 76/100\n",
            "167/167 [==============================] - 0s 2ms/step - loss: 0.4842 - accuracy: 0.7810\n",
            "Epoch 77/100\n",
            "167/167 [==============================] - 0s 2ms/step - loss: 0.4844 - accuracy: 0.7821\n",
            "Epoch 78/100\n",
            "167/167 [==============================] - 0s 2ms/step - loss: 0.4839 - accuracy: 0.7801\n",
            "Epoch 79/100\n",
            "167/167 [==============================] - 0s 2ms/step - loss: 0.4843 - accuracy: 0.7788\n",
            "Epoch 80/100\n",
            "167/167 [==============================] - 0s 2ms/step - loss: 0.4831 - accuracy: 0.7803\n",
            "Epoch 81/100\n",
            "167/167 [==============================] - 0s 2ms/step - loss: 0.4840 - accuracy: 0.7829\n",
            "Epoch 82/100\n",
            "167/167 [==============================] - 0s 2ms/step - loss: 0.4828 - accuracy: 0.7818\n",
            "Epoch 83/100\n",
            "167/167 [==============================] - 0s 2ms/step - loss: 0.4827 - accuracy: 0.7805\n",
            "Epoch 84/100\n",
            "167/167 [==============================] - 0s 2ms/step - loss: 0.4823 - accuracy: 0.7810\n",
            "Epoch 85/100\n",
            "167/167 [==============================] - 0s 2ms/step - loss: 0.4826 - accuracy: 0.7812\n",
            "Epoch 86/100\n",
            "167/167 [==============================] - 0s 2ms/step - loss: 0.4817 - accuracy: 0.7816\n",
            "Epoch 87/100\n",
            "167/167 [==============================] - 0s 2ms/step - loss: 0.4808 - accuracy: 0.7838\n",
            "Epoch 88/100\n",
            "167/167 [==============================] - 0s 2ms/step - loss: 0.4820 - accuracy: 0.7835\n",
            "Epoch 89/100\n",
            "167/167 [==============================] - 0s 2ms/step - loss: 0.4818 - accuracy: 0.7844\n",
            "Epoch 90/100\n",
            "167/167 [==============================] - 0s 2ms/step - loss: 0.4807 - accuracy: 0.7818\n",
            "Epoch 91/100\n",
            "167/167 [==============================] - 0s 2ms/step - loss: 0.4811 - accuracy: 0.7820\n",
            "Epoch 92/100\n",
            "167/167 [==============================] - 0s 2ms/step - loss: 0.4808 - accuracy: 0.7842\n",
            "Epoch 93/100\n",
            "167/167 [==============================] - 0s 2ms/step - loss: 0.4803 - accuracy: 0.7833\n",
            "Epoch 94/100\n",
            "167/167 [==============================] - 0s 2ms/step - loss: 0.4804 - accuracy: 0.7857\n",
            "Epoch 95/100\n",
            "167/167 [==============================] - 0s 2ms/step - loss: 0.4798 - accuracy: 0.7833\n",
            "Epoch 96/100\n",
            "167/167 [==============================] - 0s 2ms/step - loss: 0.4795 - accuracy: 0.7848\n",
            "Epoch 97/100\n",
            "167/167 [==============================] - 0s 2ms/step - loss: 0.4796 - accuracy: 0.7857\n",
            "Epoch 98/100\n",
            "167/167 [==============================] - 0s 2ms/step - loss: 0.4793 - accuracy: 0.7846\n",
            "Epoch 99/100\n",
            "167/167 [==============================] - 0s 2ms/step - loss: 0.4792 - accuracy: 0.7821\n",
            "Epoch 100/100\n",
            "167/167 [==============================] - 0s 2ms/step - loss: 0.4791 - accuracy: 0.7831\n"
          ]
        },
        {
          "output_type": "execute_result",
          "data": {
            "text/plain": [
              "<keras.callbacks.History at 0x7fbe70d39310>"
            ]
          },
          "metadata": {},
          "execution_count": 48
        }
      ]
    },
    {
      "cell_type": "code",
      "source": [
        "model.evaluate(X_test, y_test)"
      ],
      "metadata": {
        "colab": {
          "base_uri": "https://localhost:8080/"
        },
        "id": "5xw4RXQO-cpu",
        "outputId": "440be72a-7852-4e7c-d687-2e42dc11cd80"
      },
      "execution_count": 54,
      "outputs": [
        {
          "output_type": "stream",
          "name": "stdout",
          "text": [
            "42/42 [==============================] - 0s 2ms/step - loss: 0.5495 - accuracy: 0.7466\n"
          ]
        },
        {
          "output_type": "execute_result",
          "data": {
            "text/plain": [
              "[0.549476683139801, 0.746616542339325]"
            ]
          },
          "metadata": {},
          "execution_count": 54
        }
      ]
    },
    {
      "cell_type": "code",
      "source": [
        "# make predictions for your test dataset\n",
        "yp = model.predict(X_test)\n",
        "yp[:5]"
      ],
      "metadata": {
        "colab": {
          "base_uri": "https://localhost:8080/"
        },
        "id": "3xqThVPp-2Mr",
        "outputId": "778050a7-98a1-4aae-deea-dab90d1c47f2"
      },
      "execution_count": 89,
      "outputs": [
        {
          "output_type": "execute_result",
          "data": {
            "text/plain": [
              "array([[0.4646863 ],\n",
              "       [0.35134727],\n",
              "       [0.15055403],\n",
              "       [0.12398747],\n",
              "       [0.28043124]], dtype=float32)"
            ]
          },
          "metadata": {},
          "execution_count": 89
        }
      ]
    },
    {
      "cell_type": "code",
      "source": [
        "# conert the outcome preduction values to the binary vectors\n",
        "y_pred = []\n",
        "for element in yp:\n",
        "    if element > 0.5:\n",
        "        y_pred.append(1)\n",
        "    else:\n",
        "        y_pred.append(0)"
      ],
      "metadata": {
        "id": "nvP8_jaQ-6SI"
      },
      "execution_count": 56,
      "outputs": []
    },
    {
      "cell_type": "code",
      "source": [
        "y_pred[:10]"
      ],
      "metadata": {
        "colab": {
          "base_uri": "https://localhost:8080/"
        },
        "id": "UjvuVCKB_AJd",
        "outputId": "bec994fb-4eb0-459f-86a3-bd4e3877baac"
      },
      "execution_count": 57,
      "outputs": [
        {
          "output_type": "execute_result",
          "data": {
            "text/plain": [
              "[0, 0, 0, 0, 0, 0, 0, 0, 0, 0]"
            ]
          },
          "metadata": {},
          "execution_count": 57
        }
      ]
    },
    {
      "cell_type": "code",
      "source": [
        "y_test[:10]"
      ],
      "metadata": {
        "colab": {
          "base_uri": "https://localhost:8080/"
        },
        "id": "0HMC6DCs_BTd",
        "outputId": "96071e5a-69cd-4042-acd4-ae9d972abdc0"
      },
      "execution_count": 58,
      "outputs": [
        {
          "output_type": "execute_result",
          "data": {
            "text/plain": [
              "6499    0\n",
              "4932    0\n",
              "5048    0\n",
              "4308    0\n",
              "4231    0\n",
              "470     1\n",
              "1799    0\n",
              "362     0\n",
              "5093    0\n",
              "3593    0\n",
              "Name: Is_Churn, dtype: int64"
            ]
          },
          "metadata": {},
          "execution_count": 58
        }
      ]
    },
    {
      "cell_type": "code",
      "source": [
        "# lets calculate the accuracy which we got from our model\n",
        "from sklearn.metrics import confusion_matrix , classification_report\n",
        "\n",
        "print(classification_report(y_test,y_pred))"
      ],
      "metadata": {
        "colab": {
          "base_uri": "https://localhost:8080/"
        },
        "id": "6SRWHMVH_Jyo",
        "outputId": "abc78438-1808-4c5b-c8e7-c8b957362f80"
      },
      "execution_count": 59,
      "outputs": [
        {
          "output_type": "stream",
          "name": "stdout",
          "text": [
            "              precision    recall  f1-score   support\n",
            "\n",
            "           0       0.77      0.96      0.85      1004\n",
            "           1       0.42      0.10      0.16       326\n",
            "\n",
            "    accuracy                           0.75      1330\n",
            "   macro avg       0.59      0.53      0.50      1330\n",
            "weighted avg       0.68      0.75      0.68      1330\n",
            "\n"
          ]
        }
      ]
    },
    {
      "cell_type": "code",
      "source": [
        "# Plot the graph for prediction and truth\n",
        "import seaborn as sn\n",
        "cm = tf.math.confusion_matrix(labels=y_test,predictions=y_pred)\n",
        "\n",
        "plt.figure(figsize = (10,7))\n",
        "sn.heatmap(cm, annot=True, fmt='d')\n",
        "plt.xlabel('Predicted')\n",
        "plt.ylabel('Truth')"
      ],
      "metadata": {
        "colab": {
          "base_uri": "https://localhost:8080/",
          "height": 459
        },
        "id": "h2OjPt0l_QV8",
        "outputId": "8e85de43-aa1c-4fde-ee0e-146e86934b85"
      },
      "execution_count": 60,
      "outputs": [
        {
          "output_type": "execute_result",
          "data": {
            "text/plain": [
              "Text(69.0, 0.5, 'Truth')"
            ]
          },
          "metadata": {},
          "execution_count": 60
        },
        {
          "output_type": "display_data",
          "data": {
            "text/plain": [
              "<Figure size 720x504 with 2 Axes>"
            ],
            "image/png": "[encoded data removed]"
          },
          "metadata": {
            "needs_background": "light"
          }
        }
      ]
    },
    {
      "cell_type": "code",
      "source": [
        "y_test.shape"
      ],
      "metadata": {
        "colab": {
          "base_uri": "https://localhost:8080/"
        },
        "id": "6d-fYXcz_WOs",
        "outputId": "5e3ac824-e811-450a-c6a5-51d71c7275b8"
      },
      "execution_count": 61,
      "outputs": [
        {
          "output_type": "execute_result",
          "data": {
            "text/plain": [
              "(1330,)"
            ]
          },
          "metadata": {},
          "execution_count": 61
        }
      ]
    },
    {
      "cell_type": "code",
      "source": [
        "round((962+31)/(962+31+295+42),2)"
      ],
      "metadata": {
        "colab": {
          "base_uri": "https://localhost:8080/"
        },
        "id": "XGpt4peq_ZFE",
        "outputId": "702992dc-e7a5-4bdc-a032-4baf886061c4"
      },
      "execution_count": 63,
      "outputs": [
        {
          "output_type": "execute_result",
          "data": {
            "text/plain": [
              "0.75"
            ]
          },
          "metadata": {},
          "execution_count": 63
        }
      ]
    },
    {
      "cell_type": "code",
      "source": [
        "round(962/(962+295),2)"
      ],
      "metadata": {
        "colab": {
          "base_uri": "https://localhost:8080/"
        },
        "id": "FpNJe8DN_wqv",
        "outputId": "92fcb4f1-abf8-4845-d94f-b472aa084ae1"
      },
      "execution_count": 64,
      "outputs": [
        {
          "output_type": "execute_result",
          "data": {
            "text/plain": [
              "0.77"
            ]
          },
          "metadata": {},
          "execution_count": 64
        }
      ]
    },
    {
      "cell_type": "code",
      "source": [
        "round(31/(31+42),2)"
      ],
      "metadata": {
        "colab": {
          "base_uri": "https://localhost:8080/"
        },
        "id": "mwScv-VE_6Ec",
        "outputId": "c18c3713-beff-46dd-c0b1-da9806d2c8b9"
      },
      "execution_count": 65,
      "outputs": [
        {
          "output_type": "execute_result",
          "data": {
            "text/plain": [
              "0.42"
            ]
          },
          "metadata": {},
          "execution_count": 65
        }
      ]
    },
    {
      "cell_type": "code",
      "source": [
        "round(962/(962+42),2)"
      ],
      "metadata": {
        "colab": {
          "base_uri": "https://localhost:8080/"
        },
        "id": "0A-P27v9AFqY",
        "outputId": "e973e97a-85f8-4668-fe23-33c272375d59"
      },
      "execution_count": 66,
      "outputs": [
        {
          "output_type": "execute_result",
          "data": {
            "text/plain": [
              "0.96"
            ]
          },
          "metadata": {},
          "execution_count": 66
        }
      ]
    },
    {
      "cell_type": "code",
      "source": [
        "round(31/(31+295),2)"
      ],
      "metadata": {
        "colab": {
          "base_uri": "https://localhost:8080/"
        },
        "id": "Js7VQc16ATz6",
        "outputId": "45afa39c-9488-4a5b-9ea1-a4e147bb8a12"
      },
      "execution_count": 67,
      "outputs": [
        {
          "output_type": "execute_result",
          "data": {
            "text/plain": [
              "0.1"
            ]
          },
          "metadata": {},
          "execution_count": 67
        }
      ]
    },
    {
      "cell_type": "markdown",
      "source": [
        "## Testing the model with the provided test data set"
      ],
      "metadata": {
        "id": "aDRX_FRuSDFP"
      }
    },
    {
      "cell_type": "code",
      "source": [
        "# read the provided test data, create a sample submission data frame\n",
        "testData = pd.read_csv('/content/drive/MyDrive/Customer_Churn_Prediction_Data/test_lTY72QC.csv')\n",
        "testData.sample(5)\n",
        "sample_submission = testData['ID']\n",
        "sample_submission.head()"
      ],
      "metadata": {
        "colab": {
          "base_uri": "https://localhost:8080/"
        },
        "id": "03HjmPBZCcvt",
        "outputId": "da525311-842d-4dcd-f30b-64d1f46a57ba"
      },
      "execution_count": 90,
      "outputs": [
        {
          "output_type": "execute_result",
          "data": {
            "text/plain": [
              "0    55480787\n",
              "1    9aededf2\n",
              "2    a5034a09\n",
              "3    b3256702\n",
              "4    dc28adb5\n",
              "Name: ID, dtype: object"
            ]
          },
          "metadata": {},
          "execution_count": 90
        }
      ]
    },
    {
      "cell_type": "code",
      "source": [
        "# preprocess the test data to put it as an input to the created model\n",
        "testData.drop('ID',axis='columns',inplace=True)\n",
        "testData = one_hot_encode(testData)\n",
        "cols_to_scale(testData)"
      ],
      "metadata": {
        "colab": {
          "base_uri": "https://localhost:8080/",
          "height": 505
        },
        "id": "3nPi82cwEMks",
        "outputId": "9ce22ee8-e005-4825-a5a2-68335125863e"
      },
      "execution_count": 91,
      "outputs": [
        {
          "output_type": "execute_result",
          "data": {
            "text/plain": [
              "           Age   Balance  Vintage  Transaction_Status  Credit_Card  \\\n",
              "0     0.568627  0.413891      0.4                   1            1   \n",
              "1     0.294118  0.139709      0.4                   0            1   \n",
              "2     0.078431  0.179983      0.0                   0            1   \n",
              "3     0.392157  0.011128      0.0                   1            1   \n",
              "4     0.529412  0.453303      0.4                   1            0   \n",
              "...        ...       ...      ...                 ...          ...   \n",
              "2846  0.372549  0.549434      0.0                   0            1   \n",
              "2847  0.529412  0.594567      0.0                   1            1   \n",
              "2848  0.745098  0.451666      0.6                   0            1   \n",
              "2849  0.254902  0.616980      0.4                   0            1   \n",
              "2850  0.784314  0.374912      0.0                   1            1   \n",
              "\n",
              "      Gender_Female  Gender_Male  Income_10L - 15L  Income_5L - 10L  \\\n",
              "0                 1            0                 0                0   \n",
              "1                 0            1                 0                1   \n",
              "2                 1            0                 1                0   \n",
              "3                 0            1                 0                0   \n",
              "4                 0            1                 0                0   \n",
              "...             ...          ...               ...              ...   \n",
              "2846              1            0                 1                0   \n",
              "2847              1            0                 0                0   \n",
              "2848              0            1                 0                0   \n",
              "2849              1            0                 0                1   \n",
              "2850              1            0                 1                0   \n",
              "\n",
              "      Income_Less than 5L  Income_More than 15L  Product_Holdings_1  \\\n",
              "0                       0                     1                   0   \n",
              "1                       0                     0                   0   \n",
              "2                       0                     0                   0   \n",
              "3                       1                     0                   0   \n",
              "4                       0                     1                   0   \n",
              "...                   ...                   ...                 ...   \n",
              "2846                    0                     0                   1   \n",
              "2847                    0                     1                   0   \n",
              "2848                    0                     1                   1   \n",
              "2849                    0                     0                   1   \n",
              "2850                    0                     0                   0   \n",
              "\n",
              "      Product_Holdings_2  Product_Holdings_3+  Credit_Category_Average  \\\n",
              "0                      1                    0                        1   \n",
              "1                      1                    0                        1   \n",
              "2                      1                    0                        0   \n",
              "3                      1                    0                        0   \n",
              "4                      0                    1                        0   \n",
              "...                  ...                  ...                      ...   \n",
              "2846                   0                    0                        0   \n",
              "2847                   1                    0                        1   \n",
              "2848                   0                    0                        0   \n",
              "2849                   0                    0                        0   \n",
              "2850                   1                    0                        0   \n",
              "\n",
              "      Credit_Category_Good  Credit_Category_Poor  \n",
              "0                        0                     0  \n",
              "1                        0                     0  \n",
              "2                        1                     0  \n",
              "3                        0                     1  \n",
              "4                        1                     0  \n",
              "...                    ...                   ...  \n",
              "2846                     0                     1  \n",
              "2847                     0                     0  \n",
              "2848                     0                     1  \n",
              "2849                     0                     1  \n",
              "2850                     1                     0  \n",
              "\n",
              "[2851 rows x 17 columns]"
            ],
            "text/html": [
              "\n",
              "  <div id=\"df-0b651bd5-d18d-4633-953c-b3ae470ced8e\">\n",
              "    <div class=\"colab-df-container\">\n",
              "      <div>\n",
              "<style scoped>\n",
              "    .dataframe tbody tr th:only-of-type {\n",
              "        vertical-align: middle;\n",
              "    }\n",
              "\n",
              "    .dataframe tbody tr th {\n",
              "        vertical-align: top;\n",
              "    }\n",
              "\n",
              "    .dataframe thead th {\n",
              "        text-align: right;\n",
              "    }\n",
              "</style>\n",
              "<table border=\"1\" class=\"dataframe\">\n",
              "  <thead>\n",
              "    <tr style=\"text-align: right;\">\n",
              "      <th></th>\n",
              "      <th>Age</th>\n",
              "      <th>Balance</th>\n",
              "      <th>Vintage</th>\n",
              "      <th>Transaction_Status</th>\n",
              "      <th>Credit_Card</th>\n",
              "      <th>Gender_Female</th>\n",
              "      <th>Gender_Male</th>\n",
              "      <th>Income_10L - 15L</th>\n",
              "      <th>Income_5L - 10L</th>\n",
              "      <th>Income_Less than 5L</th>\n",
              "      <th>Income_More than 15L</th>\n",
              "      <th>Product_Holdings_1</th>\n",
              "      <th>Product_Holdings_2</th>\n",
              "      <th>Product_Holdings_3+</th>\n",
              "      <th>Credit_Category_Average</th>\n",
              "      <th>Credit_Category_Good</th>\n",
              "      <th>Credit_Category_Poor</th>\n",
              "    </tr>\n",
              "  </thead>\n",
              "  <tbody>\n",
              "    <tr>\n",
              "      <th>0</th>\n",
              "      <td>0.568627</td>\n",
              "      <td>0.413891</td>\n",
              "      <td>0.4</td>\n",
              "      <td>1</td>\n",
              "      <td>1</td>\n",
              "      <td>1</td>\n",
              "      <td>0</td>\n",
              "      <td>0</td>\n",
              "      <td>0</td>\n",
              "      <td>0</td>\n",
              "      <td>1</td>\n",
              "      <td>0</td>\n",
              "      <td>1</td>\n",
              "      <td>0</td>\n",
              "      <td>1</td>\n",
              "      <td>0</td>\n",
              "      <td>0</td>\n",
              "    </tr>\n",
              "    <tr>\n",
              "      <th>1</th>\n",
              "      <td>0.294118</td>\n",
              "      <td>0.139709</td>\n",
              "      <td>0.4</td>\n",
              "      <td>0</td>\n",
              "      <td>1</td>\n",
              "      <td>0</td>\n",
              "      <td>1</td>\n",
              "      <td>0</td>\n",
              "      <td>1</td>\n",
              "      <td>0</td>\n",
              "      <td>0</td>\n",
              "      <td>0</td>\n",
              "      <td>1</td>\n",
              "      <td>0</td>\n",
              "      <td>1</td>\n",
              "      <td>0</td>\n",
              "      <td>0</td>\n",
              "    </tr>\n",
              "    <tr>\n",
              "      <th>2</th>\n",
              "      <td>0.078431</td>\n",
              "      <td>0.179983</td>\n",
              "      <td>0.0</td>\n",
              "      <td>0</td>\n",
              "      <td>1</td>\n",
              "      <td>1</td>\n",
              "      <td>0</td>\n",
              "      <td>1</td>\n",
              "      <td>0</td>\n",
              "      <td>0</td>\n",
              "      <td>0</td>\n",
              "      <td>0</td>\n",
              "      <td>1</td>\n",
              "      <td>0</td>\n",
              "      <td>0</td>\n",
              "      <td>1</td>\n",
              "      <td>0</td>\n",
              "    </tr>\n",
              "    <tr>\n",
              "      <th>3</th>\n",
              "      <td>0.392157</td>\n",
              "      <td>0.011128</td>\n",
              "      <td>0.0</td>\n",
              "      <td>1</td>\n",
              "      <td>1</td>\n",
              "      <td>0</td>\n",
              "      <td>1</td>\n",
              "      <td>0</td>\n",
              "      <td>0</td>\n",
              "      <td>1</td>\n",
              "      <td>0</td>\n",
              "      <td>0</td>\n",
              "      <td>1</td>\n",
              "      <td>0</td>\n",
              "      <td>0</td>\n",
              "      <td>0</td>\n",
              "      <td>1</td>\n",
              "    </tr>\n",
              "    <tr>\n",
              "      <th>4</th>\n",
              "      <td>0.529412</td>\n",
              "      <td>0.453303</td>\n",
              "      <td>0.4</td>\n",
              "      <td>1</td>\n",
              "      <td>0</td>\n",
              "      <td>0</td>\n",
              "      <td>1</td>\n",
              "      <td>0</td>\n",
              "      <td>0</td>\n",
              "      <td>0</td>\n",
              "      <td>1</td>\n",
              "      <td>0</td>\n",
              "      <td>0</td>\n",
              "      <td>1</td>\n",
              "      <td>0</td>\n",
              "      <td>1</td>\n",
              "      <td>0</td>\n",
              "    </tr>\n",
              "    <tr>\n",
              "      <th>...</th>\n",
              "      <td>...</td>\n",
              "      <td>...</td>\n",
              "      <td>...</td>\n",
              "      <td>...</td>\n",
              "      <td>...</td>\n",
              "      <td>...</td>\n",
              "      <td>...</td>\n",
              "      <td>...</td>\n",
              "      <td>...</td>\n",
              "      <td>...</td>\n",
              "      <td>...</td>\n",
              "      <td>...</td>\n",
              "      <td>...</td>\n",
              "      <td>...</td>\n",
              "      <td>...</td>\n",
              "      <td>...</td>\n",
              "      <td>...</td>\n",
              "    </tr>\n",
              "    <tr>\n",
              "      <th>2846</th>\n",
              "      <td>0.372549</td>\n",
              "      <td>0.549434</td>\n",
              "      <td>0.0</td>\n",
              "      <td>0</td>\n",
              "      <td>1</td>\n",
              "      <td>1</td>\n",
              "      <td>0</td>\n",
              "      <td>1</td>\n",
              "      <td>0</td>\n",
              "      <td>0</td>\n",
              "      <td>0</td>\n",
              "      <td>1</td>\n",
              "      <td>0</td>\n",
              "      <td>0</td>\n",
              "      <td>0</td>\n",
              "      <td>0</td>\n",
              "      <td>1</td>\n",
              "    </tr>\n",
              "    <tr>\n",
              "      <th>2847</th>\n",
              "      <td>0.529412</td>\n",
              "      <td>0.594567</td>\n",
              "      <td>0.0</td>\n",
              "      <td>1</td>\n",
              "      <td>1</td>\n",
              "      <td>1</td>\n",
              "      <td>0</td>\n",
              "      <td>0</td>\n",
              "      <td>0</td>\n",
              "      <td>0</td>\n",
              "      <td>1</td>\n",
              "      <td>0</td>\n",
              "      <td>1</td>\n",
              "      <td>0</td>\n",
              "      <td>1</td>\n",
              "      <td>0</td>\n",
              "      <td>0</td>\n",
              "    </tr>\n",
              "    <tr>\n",
              "      <th>2848</th>\n",
              "      <td>0.745098</td>\n",
              "      <td>0.451666</td>\n",
              "      <td>0.6</td>\n",
              "      <td>0</td>\n",
              "      <td>1</td>\n",
              "      <td>0</td>\n",
              "      <td>1</td>\n",
              "      <td>0</td>\n",
              "      <td>0</td>\n",
              "      <td>0</td>\n",
              "      <td>1</td>\n",
              "      <td>1</td>\n",
              "      <td>0</td>\n",
              "      <td>0</td>\n",
              "      <td>0</td>\n",
              "      <td>0</td>\n",
              "      <td>1</td>\n",
              "    </tr>\n",
              "    <tr>\n",
              "      <th>2849</th>\n",
              "      <td>0.254902</td>\n",
              "      <td>0.616980</td>\n",
              "      <td>0.4</td>\n",
              "      <td>0</td>\n",
              "      <td>1</td>\n",
              "      <td>1</td>\n",
              "      <td>0</td>\n",
              "      <td>0</td>\n",
              "      <td>1</td>\n",
              "      <td>0</td>\n",
              "      <td>0</td>\n",
              "      <td>1</td>\n",
              "      <td>0</td>\n",
              "      <td>0</td>\n",
              "      <td>0</td>\n",
              "      <td>0</td>\n",
              "      <td>1</td>\n",
              "    </tr>\n",
              "    <tr>\n",
              "      <th>2850</th>\n",
              "      <td>0.784314</td>\n",
              "      <td>0.374912</td>\n",
              "      <td>0.0</td>\n",
              "      <td>1</td>\n",
              "      <td>1</td>\n",
              "      <td>1</td>\n",
              "      <td>0</td>\n",
              "      <td>1</td>\n",
              "      <td>0</td>\n",
              "      <td>0</td>\n",
              "      <td>0</td>\n",
              "      <td>0</td>\n",
              "      <td>1</td>\n",
              "      <td>0</td>\n",
              "      <td>0</td>\n",
              "      <td>1</td>\n",
              "      <td>0</td>\n",
              "    </tr>\n",
              "  </tbody>\n",
              "</table>\n",
              "<p>2851 rows × 17 columns</p>\n",
              "</div>\n",
              "      <button class=\"colab-df-convert\" onclick=\"convertToInteractive('df-0b651bd5-d18d-4633-953c-b3ae470ced8e')\"\n",
              "              title=\"Convert this dataframe to an interactive table.\"\n",
              "              style=\"display:none;\">\n",
              "        \n",
              "  <svg xmlns=\"http://www.w3.org/2000/svg\" height=\"24px\"viewBox=\"0 0 24 24\"\n",
              "       width=\"24px\">\n",
              "    <path d=\"M0 0h24v24H0V0z\" fill=\"none\"/>\n",
              "    <path d=\"M18.56 5.44l.94 2.06.94-2.06 2.06-.94-2.06-.94-.94-2.06-.94 2.06-2.06.94zm-11 1L8.5 8.5l.94-2.06 2.06-.94-2.06-.94L8.5 2.5l-.94 2.06-2.06.94zm10 10l.94 2.06.94-2.06 2.06-.94-2.06-.94-.94-2.06-.94 2.06-2.06.94z\"/><path d=\"M17.41 7.96l-1.37-1.37c-.4-.4-.92-.59-1.43-.59-.52 0-1.04.2-1.43.59L10.3 9.45l-7.72 7.72c-.78.78-.78 2.05 0 2.83L4 21.41c.39.39.9.59 1.41.59.51 0 1.02-.2 1.41-.59l7.78-7.78 2.81-2.81c.8-.78.8-2.07 0-2.86zM5.41 20L4 18.59l7.72-7.72 1.47 1.35L5.41 20z\"/>\n",
              "  </svg>\n",
              "      </button>\n",
              "      \n",
              "  <style>\n",
              "    .colab-df-container {\n",
              "      display:flex;\n",
              "      flex-wrap:wrap;\n",
              "      gap: 12px;\n",
              "    }\n",
              "\n",
              "    .colab-df-convert {\n",
              "      background-color: #E8F0FE;\n",
              "      border: none;\n",
              "      border-radius: 50%;\n",
              "      cursor: pointer;\n",
              "      display: none;\n",
              "      fill: #1967D2;\n",
              "      height: 32px;\n",
              "      padding: 0 0 0 0;\n",
              "      width: 32px;\n",
              "    }\n",
              "\n",
              "    .colab-df-convert:hover {\n",
              "      background-color: #E2EBFA;\n",
              "      box-shadow: 0px 1px 2px rgba(60, 64, 67, 0.3), 0px 1px 3px 1px rgba(60, 64, 67, 0.15);\n",
              "      fill: #174EA6;\n",
              "    }\n",
              "\n",
              "    [theme=dark] .colab-df-convert {\n",
              "      background-color: #3B4455;\n",
              "      fill: #D2E3FC;\n",
              "    }\n",
              "\n",
              "    [theme=dark] .colab-df-convert:hover {\n",
              "      background-color: #434B5C;\n",
              "      box-shadow: 0px 1px 3px 1px rgba(0, 0, 0, 0.15);\n",
              "      filter: drop-shadow(0px 1px 2px rgba(0, 0, 0, 0.3));\n",
              "      fill: #FFFFFF;\n",
              "    }\n",
              "  </style>\n",
              "\n",
              "      <script>\n",
              "        const buttonEl =\n",
              "          document.querySelector('#df-0b651bd5-d18d-4633-953c-b3ae470ced8e button.colab-df-convert');\n",
              "        buttonEl.style.display =\n",
              "          google.colab.kernel.accessAllowed ? 'block' : 'none';\n",
              "\n",
              "        async function convertToInteractive(key) {\n",
              "          const element = document.querySelector('#df-0b651bd5-d18d-4633-953c-b3ae470ced8e');\n",
              "          const dataTable =\n",
              "            await google.colab.kernel.invokeFunction('convertToInteractive',\n",
              "                                                     [key], {});\n",
              "          if (!dataTable) return;\n",
              "\n",
              "          const docLinkHtml = 'Like what you see? Visit the ' +\n",
              "            '<a target=\"_blank\" href=https://colab.research.google.com/notebooks/data_table.ipynb>data table notebook</a>'\n",
              "            + ' to learn more about interactive tables.';\n",
              "          element.innerHTML = '';\n",
              "          dataTable['output_type'] = 'display_data';\n",
              "          await google.colab.output.renderOutput(dataTable, element);\n",
              "          const docLink = document.createElement('div');\n",
              "          docLink.innerHTML = docLinkHtml;\n",
              "          element.appendChild(docLink);\n",
              "        }\n",
              "      </script>\n",
              "    </div>\n",
              "  </div>\n",
              "  "
            ]
          },
          "metadata": {},
          "execution_count": 91
        }
      ]
    },
    {
      "cell_type": "code",
      "source": [
        "# predict for the test data and convert the values into binary vectors\n",
        "predictions = model.predict(testData)\n",
        "pred = []\n",
        "for element in predictions:\n",
        "    if element > 0.5:\n",
        "        pred.append(1)\n",
        "    else:\n",
        "        pred.append(0)\n",
        "pred[:5]"
      ],
      "metadata": {
        "colab": {
          "base_uri": "https://localhost:8080/"
        },
        "id": "_tpg4hAFIZdY",
        "outputId": "2a99f965-25eb-41d7-b289-c05fad9f5641"
      },
      "execution_count": 92,
      "outputs": [
        {
          "output_type": "execute_result",
          "data": {
            "text/plain": [
              "[0, 0, 0, 0, 0]"
            ]
          },
          "metadata": {},
          "execution_count": 92
        }
      ]
    },
    {
      "cell_type": "code",
      "source": [
        "sample_submission = sample_submission.to_frame()\n",
        "sample_submission.insert(1, \"Churn\", pred, True)\n",
        "sample_submission.head()"
      ],
      "metadata": {
        "colab": {
          "base_uri": "https://localhost:8080/",
          "height": 206
        },
        "id": "pGh9T_r1JXkM",
        "outputId": "a6c37a7b-b7c7-48d5-d9e5-cbb049b9d287"
      },
      "execution_count": 84,
      "outputs": [
        {
          "output_type": "execute_result",
          "data": {
            "text/plain": [
              "         ID  Churn\n",
              "0  55480787      0\n",
              "1  9aededf2      0\n",
              "2  a5034a09      0\n",
              "3  b3256702      0\n",
              "4  dc28adb5      0"
            ],
            "text/html": [
              "\n",
              "  <div id=\"df-3b680c77-c3f3-47d4-841f-52b79ec0cf1a\">\n",
              "    <div class=\"colab-df-container\">\n",
              "      <div>\n",
              "<style scoped>\n",
              "    .dataframe tbody tr th:only-of-type {\n",
              "        vertical-align: middle;\n",
              "    }\n",
              "\n",
              "    .dataframe tbody tr th {\n",
              "        vertical-align: top;\n",
              "    }\n",
              "\n",
              "    .dataframe thead th {\n",
              "        text-align: right;\n",
              "    }\n",
              "</style>\n",
              "<table border=\"1\" class=\"dataframe\">\n",
              "  <thead>\n",
              "    <tr style=\"text-align: right;\">\n",
              "      <th></th>\n",
              "      <th>ID</th>\n",
              "      <th>Churn</th>\n",
              "    </tr>\n",
              "  </thead>\n",
              "  <tbody>\n",
              "    <tr>\n",
              "      <th>0</th>\n",
              "      <td>55480787</td>\n",
              "      <td>0</td>\n",
              "    </tr>\n",
              "    <tr>\n",
              "      <th>1</th>\n",
              "      <td>9aededf2</td>\n",
              "      <td>0</td>\n",
              "    </tr>\n",
              "    <tr>\n",
              "      <th>2</th>\n",
              "      <td>a5034a09</td>\n",
              "      <td>0</td>\n",
              "    </tr>\n",
              "    <tr>\n",
              "      <th>3</th>\n",
              "      <td>b3256702</td>\n",
              "      <td>0</td>\n",
              "    </tr>\n",
              "    <tr>\n",
              "      <th>4</th>\n",
              "      <td>dc28adb5</td>\n",
              "      <td>0</td>\n",
              "    </tr>\n",
              "  </tbody>\n",
              "</table>\n",
              "</div>\n",
              "      <button class=\"colab-df-convert\" onclick=\"convertToInteractive('df-3b680c77-c3f3-47d4-841f-52b79ec0cf1a')\"\n",
              "              title=\"Convert this dataframe to an interactive table.\"\n",
              "              style=\"display:none;\">\n",
              "        \n",
              "  <svg xmlns=\"http://www.w3.org/2000/svg\" height=\"24px\"viewBox=\"0 0 24 24\"\n",
              "       width=\"24px\">\n",
              "    <path d=\"M0 0h24v24H0V0z\" fill=\"none\"/>\n",
              "    <path d=\"M18.56 5.44l.94 2.06.94-2.06 2.06-.94-2.06-.94-.94-2.06-.94 2.06-2.06.94zm-11 1L8.5 8.5l.94-2.06 2.06-.94-2.06-.94L8.5 2.5l-.94 2.06-2.06.94zm10 10l.94 2.06.94-2.06 2.06-.94-2.06-.94-.94-2.06-.94 2.06-2.06.94z\"/><path d=\"M17.41 7.96l-1.37-1.37c-.4-.4-.92-.59-1.43-.59-.52 0-1.04.2-1.43.59L10.3 9.45l-7.72 7.72c-.78.78-.78 2.05 0 2.83L4 21.41c.39.39.9.59 1.41.59.51 0 1.02-.2 1.41-.59l7.78-7.78 2.81-2.81c.8-.78.8-2.07 0-2.86zM5.41 20L4 18.59l7.72-7.72 1.47 1.35L5.41 20z\"/>\n",
              "  </svg>\n",
              "      </button>\n",
              "      \n",
              "  <style>\n",
              "    .colab-df-container {\n",
              "      display:flex;\n",
              "      flex-wrap:wrap;\n",
              "      gap: 12px;\n",
              "    }\n",
              "\n",
              "    .colab-df-convert {\n",
              "      background-color: #E8F0FE;\n",
              "      border: none;\n",
              "      border-radius: 50%;\n",
              "      cursor: pointer;\n",
              "      display: none;\n",
              "      fill: #1967D2;\n",
              "      height: 32px;\n",
              "      padding: 0 0 0 0;\n",
              "      width: 32px;\n",
              "    }\n",
              "\n",
              "    .colab-df-convert:hover {\n",
              "      background-color: #E2EBFA;\n",
              "      box-shadow: 0px 1px 2px rgba(60, 64, 67, 0.3), 0px 1px 3px 1px rgba(60, 64, 67, 0.15);\n",
              "      fill: #174EA6;\n",
              "    }\n",
              "\n",
              "    [theme=dark] .colab-df-convert {\n",
              "      background-color: #3B4455;\n",
              "      fill: #D2E3FC;\n",
              "    }\n",
              "\n",
              "    [theme=dark] .colab-df-convert:hover {\n",
              "      background-color: #434B5C;\n",
              "      box-shadow: 0px 1px 3px 1px rgba(0, 0, 0, 0.15);\n",
              "      filter: drop-shadow(0px 1px 2px rgba(0, 0, 0, 0.3));\n",
              "      fill: #FFFFFF;\n",
              "    }\n",
              "  </style>\n",
              "\n",
              "      <script>\n",
              "        const buttonEl =\n",
              "          document.querySelector('#df-3b680c77-c3f3-47d4-841f-52b79ec0cf1a button.colab-df-convert');\n",
              "        buttonEl.style.display =\n",
              "          google.colab.kernel.accessAllowed ? 'block' : 'none';\n",
              "\n",
              "        async function convertToInteractive(key) {\n",
              "          const element = document.querySelector('#df-3b680c77-c3f3-47d4-841f-52b79ec0cf1a');\n",
              "          const dataTable =\n",
              "            await google.colab.kernel.invokeFunction('convertToInteractive',\n",
              "                                                     [key], {});\n",
              "          if (!dataTable) return;\n",
              "\n",
              "          const docLinkHtml = 'Like what you see? Visit the ' +\n",
              "            '<a target=\"_blank\" href=https://colab.research.google.com/notebooks/data_table.ipynb>data table notebook</a>'\n",
              "            + ' to learn more about interactive tables.';\n",
              "          element.innerHTML = '';\n",
              "          dataTable['output_type'] = 'display_data';\n",
              "          await google.colab.output.renderOutput(dataTable, element);\n",
              "          const docLink = document.createElement('div');\n",
              "          docLink.innerHTML = docLinkHtml;\n",
              "          element.appendChild(docLink);\n",
              "        }\n",
              "      </script>\n",
              "    </div>\n",
              "  </div>\n",
              "  "
            ]
          },
          "metadata": {},
          "execution_count": 84
        }
      ]
    },
    {
      "cell_type": "code",
      "source": [
        "# Write the resultant dataframe to the file sample_submission.csv\n",
        "sample_submission.to_csv('sample_submission.csv')"
      ],
      "metadata": {
        "id": "JQo45wdaKdmI"
      },
      "execution_count": 85,
      "outputs": []
    }
  ]
}